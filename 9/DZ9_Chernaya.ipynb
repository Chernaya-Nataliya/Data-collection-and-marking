{
 "cells": [
  {
   "cell_type": "code",
   "execution_count": 1,
   "metadata": {},
   "outputs": [
    {
     "name": "stderr",
     "output_type": "stream",
     "text": [
      "[nltk_data] Downloading package punkt to\n",
      "[nltk_data]     C:\\Users\\chern\\AppData\\Roaming\\nltk_data...\n",
      "[nltk_data]   Unzipping tokenizers\\punkt.zip.\n"
     ]
    }
   ],
   "source": [
    "import pandas as pd\n",
    "import nltk\n",
    "# Загружаем предобученную модель токенизации текста\n",
    "nltk.download('punkt')\n",
    "import csv\n",
    "import os\n",
    "import wget\n",
    "from sklearn.utils import shuffle\n",
    "from sklearn.model_selection import train_test_split\n",
    "import matplotlib\n",
    "from sklearn.preprocessing import LabelEncoder\n",
    "from sklearn.feature_extraction.text import TfidfVectorizer\n",
    "from sklearn.linear_model import LogisticRegression\n",
    "import numpy as np\n",
    "from sklearn.metrics import f1_score"
   ]
  },
  {
   "cell_type": "markdown",
   "metadata": {},
   "source": [
    "##  Загрузка датасета новостей lenta.ru"
   ]
  },
  {
   "cell_type": "code",
   "execution_count": 3,
   "metadata": {},
   "outputs": [],
   "source": [
    "# Загрузим датасет с новостями с lenta.ru\n",
    "news = pd.read_csv('news_lenta_ru.csv', engine='python', on_bad_lines='skip')"
   ]
  },
  {
   "cell_type": "code",
   "execution_count": 4,
   "metadata": {},
   "outputs": [
    {
     "data": {
      "text/html": [
       "<div>\n",
       "<style scoped>\n",
       "    .dataframe tbody tr th:only-of-type {\n",
       "        vertical-align: middle;\n",
       "    }\n",
       "\n",
       "    .dataframe tbody tr th {\n",
       "        vertical-align: top;\n",
       "    }\n",
       "\n",
       "    .dataframe thead th {\n",
       "        text-align: right;\n",
       "    }\n",
       "</style>\n",
       "<table border=\"1\" class=\"dataframe\">\n",
       "  <thead>\n",
       "    <tr style=\"text-align: right;\">\n",
       "      <th></th>\n",
       "      <th>url</th>\n",
       "      <th>title</th>\n",
       "      <th>text</th>\n",
       "      <th>topic</th>\n",
       "      <th>tags</th>\n",
       "    </tr>\n",
       "  </thead>\n",
       "  <tbody>\n",
       "    <tr>\n",
       "      <th>0</th>\n",
       "      <td>https://lenta.ru/news/1914/09/16/hungarnn/</td>\n",
       "      <td>1914. Русские войска вступили в пределы Венгрии</td>\n",
       "      <td>Бои у Сопоцкина и Друскеник закончились отступ...</td>\n",
       "      <td>Библиотека</td>\n",
       "      <td>Первая мировая</td>\n",
       "    </tr>\n",
       "    <tr>\n",
       "      <th>1</th>\n",
       "      <td>https://lenta.ru/news/1914/09/16/lermontov/</td>\n",
       "      <td>1914. Празднование столетия М.Ю. Лермонтова от...</td>\n",
       "      <td>Министерство народного просвещения, в виду про...</td>\n",
       "      <td>Библиотека</td>\n",
       "      <td>Первая мировая</td>\n",
       "    </tr>\n",
       "    <tr>\n",
       "      <th>2</th>\n",
       "      <td>https://lenta.ru/news/1914/09/17/nesteroff/</td>\n",
       "      <td>1914. Das ist Nesteroff!</td>\n",
       "      <td>Штабс-капитан П. Н. Нестеров на днях, увидев в...</td>\n",
       "      <td>Библиотека</td>\n",
       "      <td>Первая мировая</td>\n",
       "    </tr>\n",
       "    <tr>\n",
       "      <th>3</th>\n",
       "      <td>https://lenta.ru/news/1914/09/17/bulldogn/</td>\n",
       "      <td>1914. Бульдог-гонец под Льежем</td>\n",
       "      <td>Фотограф-корреспондент Daily Mirror рассказыва...</td>\n",
       "      <td>Библиотека</td>\n",
       "      <td>Первая мировая</td>\n",
       "    </tr>\n",
       "    <tr>\n",
       "      <th>4</th>\n",
       "      <td>https://lenta.ru/news/1914/09/18/zver/</td>\n",
       "      <td>1914. Под Люблином пойман швабский зверь</td>\n",
       "      <td>Лица, приехавшие в Варшаву из Люблина, передаю...</td>\n",
       "      <td>Библиотека</td>\n",
       "      <td>Первая мировая</td>\n",
       "    </tr>\n",
       "    <tr>\n",
       "      <th>...</th>\n",
       "      <td>...</td>\n",
       "      <td>...</td>\n",
       "      <td>...</td>\n",
       "      <td>...</td>\n",
       "      <td>...</td>\n",
       "    </tr>\n",
       "    <tr>\n",
       "      <th>9995</th>\n",
       "      <td>https://lenta.ru/news/2000/07/10/kpp/</td>\n",
       "      <td>На границе Дагестана и Чечни будут стрелять в ...</td>\n",
       "      <td>Глава МВД Дагестана приказал нарядам милиции н...</td>\n",
       "      <td>Россия</td>\n",
       "      <td>Все</td>\n",
       "    </tr>\n",
       "    <tr>\n",
       "      <th>9996</th>\n",
       "      <td>https://lenta.ru/news/2000/07/10/gossovet/</td>\n",
       "      <td>Путин пересадит губернаторов в Госсовет</td>\n",
       "      <td>Представители Кремля ведут активный диалог с г...</td>\n",
       "      <td>Россия</td>\n",
       "      <td>Все</td>\n",
       "    </tr>\n",
       "    <tr>\n",
       "      <th>9997</th>\n",
       "      <td>https://lenta.ru/news/2000/07/10/clowns/</td>\n",
       "      <td>В Москву съедутся клоуны со всего мира</td>\n",
       "      <td>В Москве 20 июля открывается фестиваль \"Планет...</td>\n",
       "      <td>Россия</td>\n",
       "      <td>Все</td>\n",
       "    </tr>\n",
       "    <tr>\n",
       "      <th>9998</th>\n",
       "      <td>https://lenta.ru/news/2000/07/10/women/</td>\n",
       "      <td>Старшая Уильямс выигрывает чемпионский титул</td>\n",
       "      <td>Чисто американским получился финал Уимблдонск...</td>\n",
       "      <td>Спорт</td>\n",
       "      <td>Все</td>\n",
       "    </tr>\n",
       "    <tr>\n",
       "      <th>9999</th>\n",
       "      <td>https://lenta.ru/news/2000/07/10/zenit/</td>\n",
       "      <td>\"Зенит\" выходит в третий раунд Кубка Интертото</td>\n",
       "      <td>Первым российским клубом, стартовавшим в сезон...</td>\n",
       "      <td>Спорт</td>\n",
       "      <td>Все</td>\n",
       "    </tr>\n",
       "  </tbody>\n",
       "</table>\n",
       "<p>10000 rows × 5 columns</p>\n",
       "</div>"
      ],
      "text/plain": [
       "                                              url  \\\n",
       "0      https://lenta.ru/news/1914/09/16/hungarnn/   \n",
       "1     https://lenta.ru/news/1914/09/16/lermontov/   \n",
       "2     https://lenta.ru/news/1914/09/17/nesteroff/   \n",
       "3      https://lenta.ru/news/1914/09/17/bulldogn/   \n",
       "4          https://lenta.ru/news/1914/09/18/zver/   \n",
       "...                                           ...   \n",
       "9995        https://lenta.ru/news/2000/07/10/kpp/   \n",
       "9996   https://lenta.ru/news/2000/07/10/gossovet/   \n",
       "9997     https://lenta.ru/news/2000/07/10/clowns/   \n",
       "9998      https://lenta.ru/news/2000/07/10/women/   \n",
       "9999      https://lenta.ru/news/2000/07/10/zenit/   \n",
       "\n",
       "                                                  title  \\\n",
       "0     1914. Русские войска вступили в пределы Венгрии     \n",
       "1     1914. Празднование столетия М.Ю. Лермонтова от...   \n",
       "2                              1914. Das ist Nesteroff!   \n",
       "3                       1914. Бульдог-гонец под Льежем    \n",
       "4              1914. Под Люблином пойман швабский зверь   \n",
       "...                                                 ...   \n",
       "9995  На границе Дагестана и Чечни будут стрелять в ...   \n",
       "9996            Путин пересадит губернаторов в Госсовет   \n",
       "9997             В Москву съедутся клоуны со всего мира   \n",
       "9998       Старшая Уильямс выигрывает чемпионский титул   \n",
       "9999     \"Зенит\" выходит в третий раунд Кубка Интертото   \n",
       "\n",
       "                                                   text       topic  \\\n",
       "0     Бои у Сопоцкина и Друскеник закончились отступ...  Библиотека   \n",
       "1     Министерство народного просвещения, в виду про...  Библиотека   \n",
       "2     Штабс-капитан П. Н. Нестеров на днях, увидев в...  Библиотека   \n",
       "3     Фотограф-корреспондент Daily Mirror рассказыва...  Библиотека   \n",
       "4     Лица, приехавшие в Варшаву из Люблина, передаю...  Библиотека   \n",
       "...                                                 ...         ...   \n",
       "9995  Глава МВД Дагестана приказал нарядам милиции н...      Россия   \n",
       "9996  Представители Кремля ведут активный диалог с г...      Россия   \n",
       "9997  В Москве 20 июля открывается фестиваль \"Планет...      Россия   \n",
       "9998   Чисто американским получился финал Уимблдонск...       Спорт   \n",
       "9999  Первым российским клубом, стартовавшим в сезон...       Спорт   \n",
       "\n",
       "                tags  \n",
       "0     Первая мировая  \n",
       "1     Первая мировая  \n",
       "2     Первая мировая  \n",
       "3     Первая мировая  \n",
       "4     Первая мировая  \n",
       "...              ...  \n",
       "9995             Все  \n",
       "9996             Все  \n",
       "9997             Все  \n",
       "9998             Все  \n",
       "9999             Все  \n",
       "\n",
       "[10000 rows x 5 columns]"
      ]
     },
     "execution_count": 4,
     "metadata": {},
     "output_type": "execute_result"
    }
   ],
   "source": [
    "news"
   ]
  },
  {
   "cell_type": "markdown",
   "metadata": {},
   "source": [
    "## Загрузка тонального словаря"
   ]
  },
  {
   "cell_type": "code",
   "execution_count": 5,
   "metadata": {},
   "outputs": [],
   "source": [
    "# Датасет тонального словаря\n",
    "url = 'https://raw.githubusercontent.com/dkulagin/kartaslov/master/dataset/kartaslovsent/kartaslovsent.csv'\n",
    "path = 'kartaslovsent.csv'\n",
    "if not os.path.isfile(\"kartaslovsent.csv\"):\n",
    "    # Загружаем данные\n",
    "    wget.download(url, out=path)"
   ]
  },
  {
   "cell_type": "code",
   "execution_count": 7,
   "metadata": {},
   "outputs": [],
   "source": [
    "df_tone_dictionary = pd.read_csv('kartaslovsent.csv', sep=';', on_bad_lines='skip')"
   ]
  },
  {
   "cell_type": "code",
   "execution_count": 8,
   "metadata": {},
   "outputs": [
    {
     "data": {
      "text/html": [
       "<div>\n",
       "<style scoped>\n",
       "    .dataframe tbody tr th:only-of-type {\n",
       "        vertical-align: middle;\n",
       "    }\n",
       "\n",
       "    .dataframe tbody tr th {\n",
       "        vertical-align: top;\n",
       "    }\n",
       "\n",
       "    .dataframe thead th {\n",
       "        text-align: right;\n",
       "    }\n",
       "</style>\n",
       "<table border=\"1\" class=\"dataframe\">\n",
       "  <thead>\n",
       "    <tr style=\"text-align: right;\">\n",
       "      <th></th>\n",
       "      <th>term</th>\n",
       "      <th>tag</th>\n",
       "      <th>value</th>\n",
       "      <th>pstv</th>\n",
       "      <th>ngtv</th>\n",
       "      <th>neut</th>\n",
       "      <th>dunno</th>\n",
       "      <th>pstvNgtvDisagreementRatio</th>\n",
       "    </tr>\n",
       "  </thead>\n",
       "  <tbody>\n",
       "    <tr>\n",
       "      <th>0</th>\n",
       "      <td>абажур</td>\n",
       "      <td>NEUT</td>\n",
       "      <td>0.08</td>\n",
       "      <td>0.185</td>\n",
       "      <td>0.037</td>\n",
       "      <td>0.580</td>\n",
       "      <td>0.198</td>\n",
       "      <td>0.00</td>\n",
       "    </tr>\n",
       "    <tr>\n",
       "      <th>1</th>\n",
       "      <td>аббатство</td>\n",
       "      <td>NEUT</td>\n",
       "      <td>0.10</td>\n",
       "      <td>0.192</td>\n",
       "      <td>0.038</td>\n",
       "      <td>0.578</td>\n",
       "      <td>0.192</td>\n",
       "      <td>0.00</td>\n",
       "    </tr>\n",
       "    <tr>\n",
       "      <th>2</th>\n",
       "      <td>аббревиатура</td>\n",
       "      <td>NEUT</td>\n",
       "      <td>0.08</td>\n",
       "      <td>0.196</td>\n",
       "      <td>0.000</td>\n",
       "      <td>0.630</td>\n",
       "      <td>0.174</td>\n",
       "      <td>0.00</td>\n",
       "    </tr>\n",
       "    <tr>\n",
       "      <th>3</th>\n",
       "      <td>абзац</td>\n",
       "      <td>NEUT</td>\n",
       "      <td>0.00</td>\n",
       "      <td>0.137</td>\n",
       "      <td>0.000</td>\n",
       "      <td>0.706</td>\n",
       "      <td>0.157</td>\n",
       "      <td>0.00</td>\n",
       "    </tr>\n",
       "    <tr>\n",
       "      <th>4</th>\n",
       "      <td>абиссинец</td>\n",
       "      <td>NEUT</td>\n",
       "      <td>0.28</td>\n",
       "      <td>0.151</td>\n",
       "      <td>0.113</td>\n",
       "      <td>0.245</td>\n",
       "      <td>0.491</td>\n",
       "      <td>0.19</td>\n",
       "    </tr>\n",
       "    <tr>\n",
       "      <th>...</th>\n",
       "      <td>...</td>\n",
       "      <td>...</td>\n",
       "      <td>...</td>\n",
       "      <td>...</td>\n",
       "      <td>...</td>\n",
       "      <td>...</td>\n",
       "      <td>...</td>\n",
       "      <td>...</td>\n",
       "    </tr>\n",
       "    <tr>\n",
       "      <th>46122</th>\n",
       "      <td>ёмкость</td>\n",
       "      <td>NEUT</td>\n",
       "      <td>0.00</td>\n",
       "      <td>0.167</td>\n",
       "      <td>0.000</td>\n",
       "      <td>0.690</td>\n",
       "      <td>0.143</td>\n",
       "      <td>0.00</td>\n",
       "    </tr>\n",
       "    <tr>\n",
       "      <th>46123</th>\n",
       "      <td>ёрзать</td>\n",
       "      <td>NGTV</td>\n",
       "      <td>-0.54</td>\n",
       "      <td>0.050</td>\n",
       "      <td>0.446</td>\n",
       "      <td>0.397</td>\n",
       "      <td>0.107</td>\n",
       "      <td>0.00</td>\n",
       "    </tr>\n",
       "    <tr>\n",
       "      <th>46124</th>\n",
       "      <td>ёрничать</td>\n",
       "      <td>NGTV</td>\n",
       "      <td>-0.79</td>\n",
       "      <td>0.078</td>\n",
       "      <td>0.529</td>\n",
       "      <td>0.236</td>\n",
       "      <td>0.157</td>\n",
       "      <td>0.00</td>\n",
       "    </tr>\n",
       "    <tr>\n",
       "      <th>46125</th>\n",
       "      <td>ёрш</td>\n",
       "      <td>NEUT</td>\n",
       "      <td>0.16</td>\n",
       "      <td>0.224</td>\n",
       "      <td>0.072</td>\n",
       "      <td>0.576</td>\n",
       "      <td>0.128</td>\n",
       "      <td>0.00</td>\n",
       "    </tr>\n",
       "    <tr>\n",
       "      <th>46126</th>\n",
       "      <td>ёршик</td>\n",
       "      <td>NEUT</td>\n",
       "      <td>0.00</td>\n",
       "      <td>0.152</td>\n",
       "      <td>0.043</td>\n",
       "      <td>0.718</td>\n",
       "      <td>0.087</td>\n",
       "      <td>0.00</td>\n",
       "    </tr>\n",
       "  </tbody>\n",
       "</table>\n",
       "<p>46127 rows × 8 columns</p>\n",
       "</div>"
      ],
      "text/plain": [
       "               term   tag  value   pstv   ngtv   neut  dunno  \\\n",
       "0            абажур  NEUT   0.08  0.185  0.037  0.580  0.198   \n",
       "1         аббатство  NEUT   0.10  0.192  0.038  0.578  0.192   \n",
       "2      аббревиатура  NEUT   0.08  0.196  0.000  0.630  0.174   \n",
       "3             абзац  NEUT   0.00  0.137  0.000  0.706  0.157   \n",
       "4         абиссинец  NEUT   0.28  0.151  0.113  0.245  0.491   \n",
       "...             ...   ...    ...    ...    ...    ...    ...   \n",
       "46122       ёмкость  NEUT   0.00  0.167  0.000  0.690  0.143   \n",
       "46123        ёрзать  NGTV  -0.54  0.050  0.446  0.397  0.107   \n",
       "46124      ёрничать  NGTV  -0.79  0.078  0.529  0.236  0.157   \n",
       "46125           ёрш  NEUT   0.16  0.224  0.072  0.576  0.128   \n",
       "46126         ёршик  NEUT   0.00  0.152  0.043  0.718  0.087   \n",
       "\n",
       "       pstvNgtvDisagreementRatio  \n",
       "0                           0.00  \n",
       "1                           0.00  \n",
       "2                           0.00  \n",
       "3                           0.00  \n",
       "4                           0.19  \n",
       "...                          ...  \n",
       "46122                       0.00  \n",
       "46123                       0.00  \n",
       "46124                       0.00  \n",
       "46125                       0.00  \n",
       "46126                       0.00  \n",
       "\n",
       "[46127 rows x 8 columns]"
      ]
     },
     "execution_count": 8,
     "metadata": {},
     "output_type": "execute_result"
    }
   ],
   "source": [
    "df_tone_dictionary"
   ]
  },
  {
   "cell_type": "markdown",
   "metadata": {},
   "source": [
    "## Перемешаем и разделим датафрейм на две части (1-разметка вручную, 2-разметка на основе правил)"
   ]
  },
  {
   "cell_type": "code",
   "execution_count": 9,
   "metadata": {},
   "outputs": [],
   "source": [
    "title_news_1, title_news_2 = train_test_split(news['title'], train_size=5, random_state=42)"
   ]
  },
  {
   "cell_type": "code",
   "execution_count": 10,
   "metadata": {},
   "outputs": [],
   "source": [
    "# Преобразуем полученые датасеты в датафреймы Pandas\n",
    "df_title_news_1 = pd.DataFrame(title_news_1)\n",
    "df_title_news_2 = pd.DataFrame(title_news_2)"
   ]
  },
  {
   "cell_type": "code",
   "execution_count": 11,
   "metadata": {},
   "outputs": [
    {
     "data": {
      "text/html": [
       "<div>\n",
       "<style scoped>\n",
       "    .dataframe tbody tr th:only-of-type {\n",
       "        vertical-align: middle;\n",
       "    }\n",
       "\n",
       "    .dataframe tbody tr th {\n",
       "        vertical-align: top;\n",
       "    }\n",
       "\n",
       "    .dataframe thead th {\n",
       "        text-align: right;\n",
       "    }\n",
       "</style>\n",
       "<table border=\"1\" class=\"dataframe\">\n",
       "  <thead>\n",
       "    <tr style=\"text-align: right;\">\n",
       "      <th></th>\n",
       "      <th>title</th>\n",
       "    </tr>\n",
       "  </thead>\n",
       "  <tbody>\n",
       "    <tr>\n",
       "      <th>5734</th>\n",
       "      <td>Ястржембский называет имя арестованного за взр...</td>\n",
       "    </tr>\n",
       "    <tr>\n",
       "      <th>5191</th>\n",
       "      <td>Чемпионат Италии: \"Ювентус\" ушел в отрыв</td>\n",
       "    </tr>\n",
       "    <tr>\n",
       "      <th>5390</th>\n",
       "      <td>Из Чернокозово отпущены первые амнистированные...</td>\n",
       "    </tr>\n",
       "    <tr>\n",
       "      <th>860</th>\n",
       "      <td>Парламент Украины затребовал у Конгресса США п...</td>\n",
       "    </tr>\n",
       "    <tr>\n",
       "      <th>7270</th>\n",
       "      <td>Пилот Формулы-1 уцелел в авиакатастрофе</td>\n",
       "    </tr>\n",
       "  </tbody>\n",
       "</table>\n",
       "</div>"
      ],
      "text/plain": [
       "                                                  title\n",
       "5734  Ястржембский называет имя арестованного за взр...\n",
       "5191           Чемпионат Италии: \"Ювентус\" ушел в отрыв\n",
       "5390  Из Чернокозово отпущены первые амнистированные...\n",
       "860   Парламент Украины затребовал у Конгресса США п...\n",
       "7270            Пилот Формулы-1 уцелел в авиакатастрофе"
      ]
     },
     "execution_count": 11,
     "metadata": {},
     "output_type": "execute_result"
    }
   ],
   "source": [
    "df_title_news_1.head()"
   ]
  },
  {
   "cell_type": "code",
   "execution_count": 12,
   "metadata": {},
   "outputs": [
    {
     "data": {
      "text/html": [
       "<div>\n",
       "<style scoped>\n",
       "    .dataframe tbody tr th:only-of-type {\n",
       "        vertical-align: middle;\n",
       "    }\n",
       "\n",
       "    .dataframe tbody tr th {\n",
       "        vertical-align: top;\n",
       "    }\n",
       "\n",
       "    .dataframe thead th {\n",
       "        text-align: right;\n",
       "    }\n",
       "</style>\n",
       "<table border=\"1\" class=\"dataframe\">\n",
       "  <thead>\n",
       "    <tr style=\"text-align: right;\">\n",
       "      <th></th>\n",
       "      <th>title</th>\n",
       "    </tr>\n",
       "  </thead>\n",
       "  <tbody>\n",
       "    <tr>\n",
       "      <th>6252</th>\n",
       "      <td>Чтобы не платить налог, интернет-изданиям нужн...</td>\n",
       "    </tr>\n",
       "    <tr>\n",
       "      <th>4684</th>\n",
       "      <td>Кубинского дипломата выставили из США</td>\n",
       "    </tr>\n",
       "    <tr>\n",
       "      <th>1731</th>\n",
       "      <td>Правительство РФ: третье тысячеление наступит ...</td>\n",
       "    </tr>\n",
       "    <tr>\n",
       "      <th>4742</th>\n",
       "      <td>Взрывчатку в Сибирь отправили по почте</td>\n",
       "    </tr>\n",
       "    <tr>\n",
       "      <th>4521</th>\n",
       "      <td>В Дагестане совершено покушение на генерала по...</td>\n",
       "    </tr>\n",
       "  </tbody>\n",
       "</table>\n",
       "</div>"
      ],
      "text/plain": [
       "                                                  title\n",
       "6252  Чтобы не платить налог, интернет-изданиям нужн...\n",
       "4684              Кубинского дипломата выставили из США\n",
       "1731  Правительство РФ: третье тысячеление наступит ...\n",
       "4742             Взрывчатку в Сибирь отправили по почте\n",
       "4521  В Дагестане совершено покушение на генерала по..."
      ]
     },
     "execution_count": 12,
     "metadata": {},
     "output_type": "execute_result"
    }
   ],
   "source": [
    "df_title_news_2.head()"
   ]
  },
  {
   "cell_type": "markdown",
   "metadata": {},
   "source": [
    "## Определение функций"
   ]
  },
  {
   "cell_type": "code",
   "execution_count": 13,
   "metadata": {},
   "outputs": [],
   "source": [
    "# Функция для присвоения метки настроения на основе наличия положительных или отрицательных слов\n",
    "def get_sentiment(text, df_td=df_tone_dictionary):\n",
    "    '''\n",
    "    Функция вычисляет метрику настроения.\n",
    "\n",
    "    :param text: текст который будем анализировать,\n",
    "    :param df_td: тональный словарь,\n",
    "    :return: возвращает оценку тональности: -0.35 (неготив) <= нейтрально >= (0.55) позитив \n",
    "    '''\n",
    "    # Токенизация текста на отдельные слова\n",
    "    words = nltk.word_tokenize(text.lower())\n",
    "    sum_value = 0  # Сумма всех зачений весов найденных слов\n",
    "    \n",
    "    for word in words:\n",
    "        if len(df_td[df_td.term == word]):\n",
    "            df_filtered = df_td[df_td['term'] == word]\n",
    "            value = df_filtered['value'].iloc[0]\n",
    "            sum_value += value\n",
    " \n",
    "    return sum_value   "
   ]
  },
  {
   "cell_type": "code",
   "execution_count": 14,
   "metadata": {},
   "outputs": [],
   "source": [
    "# Определение функции для присвоения метки настроения на основе оценки полярности настроения\n",
    "def get_sentiment_label(score):\n",
    "    '''\n",
    "    Функция выводит метку настроения (негативный, позитивный или нейтральный).\n",
    "\n",
    "    :param score: уровень метки настроения от -1 до 1,\n",
    "    :return: возвращает оценку тональности. \n",
    "    '''\n",
    "    if score < -0.35:\n",
    "        return 'negative'  \n",
    "    elif score >= 0.55:\n",
    "        return 'positive' \n",
    "    else:\n",
    "        return 'neutral'"
   ]
  },
  {
   "cell_type": "markdown",
   "metadata": {},
   "source": [
    "### Проверка функций"
   ]
  },
  {
   "cell_type": "code",
   "execution_count": 15,
   "metadata": {},
   "outputs": [
    {
     "name": "stdout",
     "output_type": "stream",
     "text": [
      "CPU times: total: 15.6 ms\n",
      "Wall time: 45.7 ms\n"
     ]
    },
    {
     "data": {
      "text/plain": [
       "0.55"
      ]
     },
     "execution_count": 15,
     "metadata": {},
     "output_type": "execute_result"
    }
   ],
   "source": [
    "%%time\n",
    "get_sentiment('Превосходно, что Аист прелетел')"
   ]
  },
  {
   "cell_type": "code",
   "execution_count": 16,
   "metadata": {},
   "outputs": [
    {
     "data": {
      "text/plain": [
       "-0.68"
      ]
     },
     "execution_count": 16,
     "metadata": {},
     "output_type": "execute_result"
    }
   ],
   "source": [
    "get_sentiment('Удар молнии')"
   ]
  },
  {
   "cell_type": "code",
   "execution_count": 17,
   "metadata": {},
   "outputs": [
    {
     "data": {
      "text/plain": [
       "0"
      ]
     },
     "execution_count": 17,
     "metadata": {},
     "output_type": "execute_result"
    }
   ],
   "source": [
    "get_sentiment('Всё в норме')"
   ]
  },
  {
   "cell_type": "code",
   "execution_count": 18,
   "metadata": {},
   "outputs": [
    {
     "data": {
      "text/plain": [
       "'positive'"
      ]
     },
     "execution_count": 18,
     "metadata": {},
     "output_type": "execute_result"
    }
   ],
   "source": [
    "get_sentiment_label(get_sentiment('Превосходно, что Аист прелетел'))"
   ]
  },
  {
   "cell_type": "code",
   "execution_count": 19,
   "metadata": {},
   "outputs": [
    {
     "data": {
      "text/plain": [
       "'negative'"
      ]
     },
     "execution_count": 19,
     "metadata": {},
     "output_type": "execute_result"
    }
   ],
   "source": [
    "get_sentiment_label(get_sentiment('Удар молнии'))"
   ]
  },
  {
   "cell_type": "markdown",
   "metadata": {},
   "source": [
    "## Присваиваем метки\n",
    "### Присвоение меток настроения на основе правил"
   ]
  },
  {
   "cell_type": "code",
   "execution_count": 20,
   "metadata": {},
   "outputs": [
    {
     "name": "stdout",
     "output_type": "stream",
     "text": [
      "CPU times: total: 1min 29s\n",
      "Wall time: 3min 49s\n"
     ]
    }
   ],
   "source": [
    "%%time\n",
    "# Применение функции к столбцу 'title' датасета для получения полярности настроения каждого заголовка новости\n",
    "df_title_news_2['sentiment'] = df_title_news_2['title'].apply(get_sentiment)\n",
    "# Применение функции к столбцу 'sentiment' датасета для присвоения меток настроения\n",
    "df_title_news_2['sentiment_label'] = df_title_news_2['sentiment'].apply(get_sentiment_label)"
   ]
  },
  {
   "cell_type": "code",
   "execution_count": 21,
   "metadata": {},
   "outputs": [
    {
     "data": {
      "text/html": [
       "<div>\n",
       "<style scoped>\n",
       "    .dataframe tbody tr th:only-of-type {\n",
       "        vertical-align: middle;\n",
       "    }\n",
       "\n",
       "    .dataframe tbody tr th {\n",
       "        vertical-align: top;\n",
       "    }\n",
       "\n",
       "    .dataframe thead th {\n",
       "        text-align: right;\n",
       "    }\n",
       "</style>\n",
       "<table border=\"1\" class=\"dataframe\">\n",
       "  <thead>\n",
       "    <tr style=\"text-align: right;\">\n",
       "      <th></th>\n",
       "      <th>title</th>\n",
       "      <th>sentiment</th>\n",
       "      <th>sentiment_label</th>\n",
       "    </tr>\n",
       "  </thead>\n",
       "  <tbody>\n",
       "    <tr>\n",
       "      <th>6252</th>\n",
       "      <td>Чтобы не платить налог, интернет-изданиям нужн...</td>\n",
       "      <td>-0.26</td>\n",
       "      <td>neutral</td>\n",
       "    </tr>\n",
       "    <tr>\n",
       "      <th>4684</th>\n",
       "      <td>Кубинского дипломата выставили из США</td>\n",
       "      <td>0.00</td>\n",
       "      <td>neutral</td>\n",
       "    </tr>\n",
       "    <tr>\n",
       "      <th>1731</th>\n",
       "      <td>Правительство РФ: третье тысячеление наступит ...</td>\n",
       "      <td>-0.14</td>\n",
       "      <td>neutral</td>\n",
       "    </tr>\n",
       "    <tr>\n",
       "      <th>4742</th>\n",
       "      <td>Взрывчатку в Сибирь отправили по почте</td>\n",
       "      <td>0.00</td>\n",
       "      <td>neutral</td>\n",
       "    </tr>\n",
       "    <tr>\n",
       "      <th>4521</th>\n",
       "      <td>В Дагестане совершено покушение на генерала по...</td>\n",
       "      <td>-1.00</td>\n",
       "      <td>negative</td>\n",
       "    </tr>\n",
       "  </tbody>\n",
       "</table>\n",
       "</div>"
      ],
      "text/plain": [
       "                                                  title  sentiment  \\\n",
       "6252  Чтобы не платить налог, интернет-изданиям нужн...      -0.26   \n",
       "4684              Кубинского дипломата выставили из США       0.00   \n",
       "1731  Правительство РФ: третье тысячеление наступит ...      -0.14   \n",
       "4742             Взрывчатку в Сибирь отправили по почте       0.00   \n",
       "4521  В Дагестане совершено покушение на генерала по...      -1.00   \n",
       "\n",
       "     sentiment_label  \n",
       "6252         neutral  \n",
       "4684         neutral  \n",
       "1731         neutral  \n",
       "4742         neutral  \n",
       "4521        negative  "
      ]
     },
     "execution_count": 21,
     "metadata": {},
     "output_type": "execute_result"
    }
   ],
   "source": [
    "df_title_news_2.head()"
   ]
  },
  {
   "cell_type": "code",
   "execution_count": 22,
   "metadata": {},
   "outputs": [
    {
     "data": {
      "text/plain": [
       "(9995, 3)"
      ]
     },
     "execution_count": 22,
     "metadata": {},
     "output_type": "execute_result"
    }
   ],
   "source": [
    "df_title_news_2.shape"
   ]
  },
  {
   "cell_type": "markdown",
   "metadata": {},
   "source": [
    "### Присвоение меток настроения в label-studio"
   ]
  },
  {
   "cell_type": "code",
   "execution_count": 23,
   "metadata": {},
   "outputs": [],
   "source": [
    "# Сохраним датафрем в CSV файл\n",
    "df_title_news_1.to_csv('manual_marking.csv', index=False)"
   ]
  },
  {
   "cell_type": "code",
   "execution_count": 24,
   "metadata": {},
   "outputs": [
    {
     "name": "stdout",
     "output_type": "stream",
     "text": [
      "^C\n"
     ]
    }
   ],
   "source": [
    "# Запускаем локально label-studio\n",
    "!label-studio"
   ]
  },
  {
   "cell_type": "markdown",
   "metadata": {},
   "source": [
    "## Экспортируем размеченный вручную CSV файл и загружаем его в датафрейм"
   ]
  },
  {
   "cell_type": "code",
   "execution_count": 40,
   "metadata": {},
   "outputs": [],
   "source": [
    "df_title_news_1 = pd.read_csv('project-1-at-2024-05-27-00-19-3822a918.csv', engine='python', on_bad_lines='skip')"
   ]
  },
  {
   "cell_type": "code",
   "execution_count": 41,
   "metadata": {},
   "outputs": [
    {
     "data": {
      "text/html": [
       "<div>\n",
       "<style scoped>\n",
       "    .dataframe tbody tr th:only-of-type {\n",
       "        vertical-align: middle;\n",
       "    }\n",
       "\n",
       "    .dataframe tbody tr th {\n",
       "        vertical-align: top;\n",
       "    }\n",
       "\n",
       "    .dataframe thead th {\n",
       "        text-align: right;\n",
       "    }\n",
       "</style>\n",
       "<table border=\"1\" class=\"dataframe\">\n",
       "  <thead>\n",
       "    <tr style=\"text-align: right;\">\n",
       "      <th></th>\n",
       "      <th>annotation_id</th>\n",
       "      <th>annotator</th>\n",
       "      <th>created_at</th>\n",
       "      <th>id</th>\n",
       "      <th>lead_time</th>\n",
       "      <th>sentiment</th>\n",
       "      <th>title</th>\n",
       "      <th>updated_at</th>\n",
       "    </tr>\n",
       "  </thead>\n",
       "  <tbody>\n",
       "    <tr>\n",
       "      <th>0</th>\n",
       "      <td>1</td>\n",
       "      <td>1</td>\n",
       "      <td>2024-05-27T00:08:25.109948Z</td>\n",
       "      <td>1</td>\n",
       "      <td>18.735</td>\n",
       "      <td>positive</td>\n",
       "      <td>Ястржембский называет имя арестованного за взр...</td>\n",
       "      <td>2024-05-27T00:08:33.034497Z</td>\n",
       "    </tr>\n",
       "    <tr>\n",
       "      <th>1</th>\n",
       "      <td>2</td>\n",
       "      <td>1</td>\n",
       "      <td>2024-05-27T00:09:05.374325Z</td>\n",
       "      <td>2</td>\n",
       "      <td>13.131</td>\n",
       "      <td>neutral</td>\n",
       "      <td>Чемпионат Италии: \"Ювентус\" ушел в отрыв</td>\n",
       "      <td>2024-05-27T00:17:06.400265Z</td>\n",
       "    </tr>\n",
       "    <tr>\n",
       "      <th>2</th>\n",
       "      <td>3</td>\n",
       "      <td>1</td>\n",
       "      <td>2024-05-27T00:09:26.498394Z</td>\n",
       "      <td>3</td>\n",
       "      <td>6.770</td>\n",
       "      <td>negative</td>\n",
       "      <td>Из Чернокозово отпущены первые амнистированные...</td>\n",
       "      <td>2024-05-27T00:09:26.498394Z</td>\n",
       "    </tr>\n",
       "    <tr>\n",
       "      <th>3</th>\n",
       "      <td>4</td>\n",
       "      <td>1</td>\n",
       "      <td>2024-05-27T00:09:59.909605Z</td>\n",
       "      <td>4</td>\n",
       "      <td>7.341</td>\n",
       "      <td>neutral</td>\n",
       "      <td>Парламент Украины затребовал у Конгресса США п...</td>\n",
       "      <td>2024-05-27T00:09:59.909605Z</td>\n",
       "    </tr>\n",
       "    <tr>\n",
       "      <th>4</th>\n",
       "      <td>5</td>\n",
       "      <td>1</td>\n",
       "      <td>2024-05-27T00:10:25.863949Z</td>\n",
       "      <td>5</td>\n",
       "      <td>4.486</td>\n",
       "      <td>positive</td>\n",
       "      <td>Пилот Формулы-1 уцелел в авиакатастрофе</td>\n",
       "      <td>2024-05-27T00:10:25.863949Z</td>\n",
       "    </tr>\n",
       "  </tbody>\n",
       "</table>\n",
       "</div>"
      ],
      "text/plain": [
       "   annotation_id  annotator                   created_at  id  lead_time  \\\n",
       "0              1          1  2024-05-27T00:08:25.109948Z   1     18.735   \n",
       "1              2          1  2024-05-27T00:09:05.374325Z   2     13.131   \n",
       "2              3          1  2024-05-27T00:09:26.498394Z   3      6.770   \n",
       "3              4          1  2024-05-27T00:09:59.909605Z   4      7.341   \n",
       "4              5          1  2024-05-27T00:10:25.863949Z   5      4.486   \n",
       "\n",
       "  sentiment                                              title  \\\n",
       "0  positive  Ястржембский называет имя арестованного за взр...   \n",
       "1   neutral           Чемпионат Италии: \"Ювентус\" ушел в отрыв   \n",
       "2  negative  Из Чернокозово отпущены первые амнистированные...   \n",
       "3   neutral  Парламент Украины затребовал у Конгресса США п...   \n",
       "4  positive            Пилот Формулы-1 уцелел в авиакатастрофе   \n",
       "\n",
       "                    updated_at  \n",
       "0  2024-05-27T00:08:33.034497Z  \n",
       "1  2024-05-27T00:17:06.400265Z  \n",
       "2  2024-05-27T00:09:26.498394Z  \n",
       "3  2024-05-27T00:09:59.909605Z  \n",
       "4  2024-05-27T00:10:25.863949Z  "
      ]
     },
     "execution_count": 41,
     "metadata": {},
     "output_type": "execute_result"
    }
   ],
   "source": [
    "df_title_news_1.head()"
   ]
  },
  {
   "cell_type": "code",
   "execution_count": 42,
   "metadata": {},
   "outputs": [],
   "source": [
    "# Оставим только нужные столбцы\n",
    "df_title_news_1 = df_title_news_1[['title', 'sentiment']].rename(columns={'sentiment': 'sentiment_label'})"
   ]
  },
  {
   "cell_type": "code",
   "execution_count": 43,
   "metadata": {},
   "outputs": [
    {
     "data": {
      "text/html": [
       "<div>\n",
       "<style scoped>\n",
       "    .dataframe tbody tr th:only-of-type {\n",
       "        vertical-align: middle;\n",
       "    }\n",
       "\n",
       "    .dataframe tbody tr th {\n",
       "        vertical-align: top;\n",
       "    }\n",
       "\n",
       "    .dataframe thead th {\n",
       "        text-align: right;\n",
       "    }\n",
       "</style>\n",
       "<table border=\"1\" class=\"dataframe\">\n",
       "  <thead>\n",
       "    <tr style=\"text-align: right;\">\n",
       "      <th></th>\n",
       "      <th>title</th>\n",
       "      <th>sentiment_label</th>\n",
       "    </tr>\n",
       "  </thead>\n",
       "  <tbody>\n",
       "    <tr>\n",
       "      <th>0</th>\n",
       "      <td>Ястржембский называет имя арестованного за взр...</td>\n",
       "      <td>positive</td>\n",
       "    </tr>\n",
       "    <tr>\n",
       "      <th>1</th>\n",
       "      <td>Чемпионат Италии: \"Ювентус\" ушел в отрыв</td>\n",
       "      <td>neutral</td>\n",
       "    </tr>\n",
       "    <tr>\n",
       "      <th>2</th>\n",
       "      <td>Из Чернокозово отпущены первые амнистированные...</td>\n",
       "      <td>negative</td>\n",
       "    </tr>\n",
       "    <tr>\n",
       "      <th>3</th>\n",
       "      <td>Парламент Украины затребовал у Конгресса США п...</td>\n",
       "      <td>neutral</td>\n",
       "    </tr>\n",
       "    <tr>\n",
       "      <th>4</th>\n",
       "      <td>Пилот Формулы-1 уцелел в авиакатастрофе</td>\n",
       "      <td>positive</td>\n",
       "    </tr>\n",
       "  </tbody>\n",
       "</table>\n",
       "</div>"
      ],
      "text/plain": [
       "                                               title sentiment_label\n",
       "0  Ястржембский называет имя арестованного за взр...        positive\n",
       "1           Чемпионат Италии: \"Ювентус\" ушел в отрыв         neutral\n",
       "2  Из Чернокозово отпущены первые амнистированные...        negative\n",
       "3  Парламент Украины затребовал у Конгресса США п...         neutral\n",
       "4            Пилот Формулы-1 уцелел в авиакатастрофе        positive"
      ]
     },
     "execution_count": 43,
     "metadata": {},
     "output_type": "execute_result"
    }
   ],
   "source": [
    "df_title_news_1.head()"
   ]
  },
  {
   "cell_type": "markdown",
   "metadata": {},
   "source": [
    "### Объединение датафреймов"
   ]
  },
  {
   "cell_type": "code",
   "execution_count": 44,
   "metadata": {},
   "outputs": [],
   "source": [
    "# Объеденим три датафрейма\n",
    "df_title_news_concat = pd.concat([\n",
    "    df_title_news_1,\n",
    "    df_title_news_2,\n",
    "], axis=0)\n",
    "# Удалим лишний столбец\n",
    "del df_title_news_concat['sentiment']"
   ]
  },
  {
   "cell_type": "code",
   "execution_count": 45,
   "metadata": {},
   "outputs": [
    {
     "data": {
      "text/html": [
       "<div>\n",
       "<style scoped>\n",
       "    .dataframe tbody tr th:only-of-type {\n",
       "        vertical-align: middle;\n",
       "    }\n",
       "\n",
       "    .dataframe tbody tr th {\n",
       "        vertical-align: top;\n",
       "    }\n",
       "\n",
       "    .dataframe thead th {\n",
       "        text-align: right;\n",
       "    }\n",
       "</style>\n",
       "<table border=\"1\" class=\"dataframe\">\n",
       "  <thead>\n",
       "    <tr style=\"text-align: right;\">\n",
       "      <th></th>\n",
       "      <th>title</th>\n",
       "      <th>sentiment_label</th>\n",
       "    </tr>\n",
       "  </thead>\n",
       "  <tbody>\n",
       "    <tr>\n",
       "      <th>0</th>\n",
       "      <td>Ястржембский называет имя арестованного за взр...</td>\n",
       "      <td>positive</td>\n",
       "    </tr>\n",
       "    <tr>\n",
       "      <th>1</th>\n",
       "      <td>Чемпионат Италии: \"Ювентус\" ушел в отрыв</td>\n",
       "      <td>neutral</td>\n",
       "    </tr>\n",
       "    <tr>\n",
       "      <th>2</th>\n",
       "      <td>Из Чернокозово отпущены первые амнистированные...</td>\n",
       "      <td>negative</td>\n",
       "    </tr>\n",
       "    <tr>\n",
       "      <th>3</th>\n",
       "      <td>Парламент Украины затребовал у Конгресса США п...</td>\n",
       "      <td>neutral</td>\n",
       "    </tr>\n",
       "    <tr>\n",
       "      <th>4</th>\n",
       "      <td>Пилот Формулы-1 уцелел в авиакатастрофе</td>\n",
       "      <td>positive</td>\n",
       "    </tr>\n",
       "  </tbody>\n",
       "</table>\n",
       "</div>"
      ],
      "text/plain": [
       "                                               title sentiment_label\n",
       "0  Ястржембский называет имя арестованного за взр...        positive\n",
       "1           Чемпионат Италии: \"Ювентус\" ушел в отрыв         neutral\n",
       "2  Из Чернокозово отпущены первые амнистированные...        negative\n",
       "3  Парламент Украины затребовал у Конгресса США п...         neutral\n",
       "4            Пилот Формулы-1 уцелел в авиакатастрофе        positive"
      ]
     },
     "execution_count": 45,
     "metadata": {},
     "output_type": "execute_result"
    }
   ],
   "source": [
    "df_title_news_concat.head()"
   ]
  },
  {
   "cell_type": "code",
   "execution_count": 46,
   "metadata": {},
   "outputs": [
    {
     "data": {
      "text/plain": [
       "(10000, 2)"
      ]
     },
     "execution_count": 46,
     "metadata": {},
     "output_type": "execute_result"
    }
   ],
   "source": [
    "df_title_news_concat.shape"
   ]
  },
  {
   "cell_type": "code",
   "execution_count": 47,
   "metadata": {},
   "outputs": [
    {
     "data": {
      "text/plain": [
       "<Axes: >"
      ]
     },
     "execution_count": 47,
     "metadata": {},
     "output_type": "execute_result"
    },
    {
     "data": {
      "image/png": "[encoded data removed]",
      "text/plain": [
       "<Figure size 640x480 with 1 Axes>"
      ]
     },
     "metadata": {},
     "output_type": "display_data"
    }
   ],
   "source": [
    "# Выведем график тональности заголовков новостей\n",
    "df_title_news_concat['sentiment_label'].hist()"
   ]
  },
  {
   "cell_type": "code",
   "execution_count": 48,
   "metadata": {},
   "outputs": [
    {
     "data": {
      "text/html": [
       "<div>\n",
       "<style scoped>\n",
       "    .dataframe tbody tr th:only-of-type {\n",
       "        vertical-align: middle;\n",
       "    }\n",
       "\n",
       "    .dataframe tbody tr th {\n",
       "        vertical-align: top;\n",
       "    }\n",
       "\n",
       "    .dataframe thead tr th {\n",
       "        text-align: left;\n",
       "    }\n",
       "\n",
       "    .dataframe thead tr:last-of-type th {\n",
       "        text-align: right;\n",
       "    }\n",
       "</style>\n",
       "<table border=\"1\" class=\"dataframe\">\n",
       "  <thead>\n",
       "    <tr>\n",
       "      <th></th>\n",
       "      <th>sentiment_label</th>\n",
       "    </tr>\n",
       "    <tr>\n",
       "      <th></th>\n",
       "      <th>count</th>\n",
       "    </tr>\n",
       "    <tr>\n",
       "      <th>sentiment_label</th>\n",
       "      <th></th>\n",
       "    </tr>\n",
       "  </thead>\n",
       "  <tbody>\n",
       "    <tr>\n",
       "      <th>negative</th>\n",
       "      <td>1186</td>\n",
       "    </tr>\n",
       "    <tr>\n",
       "      <th>neutral</th>\n",
       "      <td>7463</td>\n",
       "    </tr>\n",
       "    <tr>\n",
       "      <th>positive</th>\n",
       "      <td>1351</td>\n",
       "    </tr>\n",
       "  </tbody>\n",
       "</table>\n",
       "</div>"
      ],
      "text/plain": [
       "                sentiment_label\n",
       "                          count\n",
       "sentiment_label                \n",
       "negative                   1186\n",
       "neutral                    7463\n",
       "positive                   1351"
      ]
     },
     "execution_count": 48,
     "metadata": {},
     "output_type": "execute_result"
    }
   ],
   "source": [
    "# Статистика тональности заголоаков новостей\n",
    "df_title_news_concat.groupby(['sentiment_label']).agg({'sentiment_label': ['count']})"
   ]
  },
  {
   "cell_type": "markdown",
   "metadata": {},
   "source": [
    "### Обучение модели"
   ]
  },
  {
   "cell_type": "code",
   "execution_count": 49,
   "metadata": {},
   "outputs": [],
   "source": [
    "le = LabelEncoder()\n",
    "# Преобразуем в датафрейме буквеное обозначение в цифровое\n",
    "df_title_news_concat['sentiment_label'] = le.fit_transform(df_title_news_concat['sentiment_label'].astype(str))"
   ]
  },
  {
   "cell_type": "code",
   "execution_count": 50,
   "metadata": {},
   "outputs": [
    {
     "data": {
      "text/html": [
       "<div>\n",
       "<style scoped>\n",
       "    .dataframe tbody tr th:only-of-type {\n",
       "        vertical-align: middle;\n",
       "    }\n",
       "\n",
       "    .dataframe tbody tr th {\n",
       "        vertical-align: top;\n",
       "    }\n",
       "\n",
       "    .dataframe thead th {\n",
       "        text-align: right;\n",
       "    }\n",
       "</style>\n",
       "<table border=\"1\" class=\"dataframe\">\n",
       "  <thead>\n",
       "    <tr style=\"text-align: right;\">\n",
       "      <th></th>\n",
       "      <th>title</th>\n",
       "      <th>sentiment_label</th>\n",
       "    </tr>\n",
       "  </thead>\n",
       "  <tbody>\n",
       "    <tr>\n",
       "      <th>0</th>\n",
       "      <td>Ястржембский называет имя арестованного за взр...</td>\n",
       "      <td>2</td>\n",
       "    </tr>\n",
       "    <tr>\n",
       "      <th>1</th>\n",
       "      <td>Чемпионат Италии: \"Ювентус\" ушел в отрыв</td>\n",
       "      <td>1</td>\n",
       "    </tr>\n",
       "    <tr>\n",
       "      <th>2</th>\n",
       "      <td>Из Чернокозово отпущены первые амнистированные...</td>\n",
       "      <td>0</td>\n",
       "    </tr>\n",
       "    <tr>\n",
       "      <th>3</th>\n",
       "      <td>Парламент Украины затребовал у Конгресса США п...</td>\n",
       "      <td>1</td>\n",
       "    </tr>\n",
       "    <tr>\n",
       "      <th>4</th>\n",
       "      <td>Пилот Формулы-1 уцелел в авиакатастрофе</td>\n",
       "      <td>2</td>\n",
       "    </tr>\n",
       "  </tbody>\n",
       "</table>\n",
       "</div>"
      ],
      "text/plain": [
       "                                               title  sentiment_label\n",
       "0  Ястржембский называет имя арестованного за взр...                2\n",
       "1           Чемпионат Италии: \"Ювентус\" ушел в отрыв                1\n",
       "2  Из Чернокозово отпущены первые амнистированные...                0\n",
       "3  Парламент Украины затребовал у Конгресса США п...                1\n",
       "4            Пилот Формулы-1 уцелел в авиакатастрофе                2"
      ]
     },
     "execution_count": 50,
     "metadata": {},
     "output_type": "execute_result"
    }
   ],
   "source": [
    "df_title_news_concat.head()"
   ]
  },
  {
   "cell_type": "code",
   "execution_count": 51,
   "metadata": {},
   "outputs": [],
   "source": [
    "# Перемешивание данных\n",
    "df_title_news_concat = shuffle(df_title_news_concat)"
   ]
  },
  {
   "cell_type": "code",
   "execution_count": 52,
   "metadata": {},
   "outputs": [],
   "source": [
    "# Разделение датасета на размеченную и неразмеченную выборки\n",
    "labeled_title, unlabeled_title = train_test_split(df_title_news_concat, train_size=0.2, random_state=42)"
   ]
  },
  {
   "cell_type": "code",
   "execution_count": 53,
   "metadata": {},
   "outputs": [
    {
     "data": {
      "text/html": [
       "<div>\n",
       "<style scoped>\n",
       "    .dataframe tbody tr th:only-of-type {\n",
       "        vertical-align: middle;\n",
       "    }\n",
       "\n",
       "    .dataframe tbody tr th {\n",
       "        vertical-align: top;\n",
       "    }\n",
       "\n",
       "    .dataframe thead th {\n",
       "        text-align: right;\n",
       "    }\n",
       "</style>\n",
       "<table border=\"1\" class=\"dataframe\">\n",
       "  <thead>\n",
       "    <tr style=\"text-align: right;\">\n",
       "      <th></th>\n",
       "      <th>title</th>\n",
       "      <th>sentiment_label</th>\n",
       "    </tr>\n",
       "  </thead>\n",
       "  <tbody>\n",
       "    <tr>\n",
       "      <th>7527</th>\n",
       "      <td>Ford сокращает две тысячи рабочих мест в Европе</td>\n",
       "      <td>1</td>\n",
       "    </tr>\n",
       "    <tr>\n",
       "      <th>6118</th>\n",
       "      <td>В пригороде Осло загорелся товарный состав с п...</td>\n",
       "      <td>1</td>\n",
       "    </tr>\n",
       "    <tr>\n",
       "      <th>2273</th>\n",
       "      <td>Ельцин лично позвонил Лукашенко</td>\n",
       "      <td>1</td>\n",
       "    </tr>\n",
       "    <tr>\n",
       "      <th>752</th>\n",
       "      <td>В Уфе выпустили водку \"Беспохмельную\"</td>\n",
       "      <td>1</td>\n",
       "    </tr>\n",
       "    <tr>\n",
       "      <th>1492</th>\n",
       "      <td>Места в избирательном бюллетене разыграли на л...</td>\n",
       "      <td>1</td>\n",
       "    </tr>\n",
       "  </tbody>\n",
       "</table>\n",
       "</div>"
      ],
      "text/plain": [
       "                                                  title  sentiment_label\n",
       "7527    Ford сокращает две тысячи рабочих мест в Европе                1\n",
       "6118  В пригороде Осло загорелся товарный состав с п...                1\n",
       "2273                    Ельцин лично позвонил Лукашенко                1\n",
       "752               В Уфе выпустили водку \"Беспохмельную\"                1\n",
       "1492  Места в избирательном бюллетене разыграли на л...                1"
      ]
     },
     "execution_count": 53,
     "metadata": {},
     "output_type": "execute_result"
    }
   ],
   "source": [
    "labeled_title.head()"
   ]
  },
  {
   "cell_type": "code",
   "execution_count": 54,
   "metadata": {},
   "outputs": [
    {
     "data": {
      "text/html": [
       "<div>\n",
       "<style scoped>\n",
       "    .dataframe tbody tr th:only-of-type {\n",
       "        vertical-align: middle;\n",
       "    }\n",
       "\n",
       "    .dataframe tbody tr th {\n",
       "        vertical-align: top;\n",
       "    }\n",
       "\n",
       "    .dataframe thead th {\n",
       "        text-align: right;\n",
       "    }\n",
       "</style>\n",
       "<table border=\"1\" class=\"dataframe\">\n",
       "  <thead>\n",
       "    <tr style=\"text-align: right;\">\n",
       "      <th></th>\n",
       "      <th>title</th>\n",
       "      <th>sentiment_label</th>\n",
       "    </tr>\n",
       "  </thead>\n",
       "  <tbody>\n",
       "    <tr>\n",
       "      <th>6361</th>\n",
       "      <td>ОПЕК сократит добычу нефти, если цена за барре...</td>\n",
       "      <td>1</td>\n",
       "    </tr>\n",
       "    <tr>\n",
       "      <th>2551</th>\n",
       "      <td>Новый программный продукт позволяет эффективно...</td>\n",
       "      <td>2</td>\n",
       "    </tr>\n",
       "    <tr>\n",
       "      <th>8172</th>\n",
       "      <td>В федеральных округах создадут представительст...</td>\n",
       "      <td>1</td>\n",
       "    </tr>\n",
       "    <tr>\n",
       "      <th>3486</th>\n",
       "      <td>В Москве убит администратор Центральной хораль...</td>\n",
       "      <td>1</td>\n",
       "    </tr>\n",
       "    <tr>\n",
       "      <th>3300</th>\n",
       "      <td>Самолет с нефтяниками рухнул в море у берегов ...</td>\n",
       "      <td>1</td>\n",
       "    </tr>\n",
       "  </tbody>\n",
       "</table>\n",
       "</div>"
      ],
      "text/plain": [
       "                                                  title  sentiment_label\n",
       "6361  ОПЕК сократит добычу нефти, если цена за барре...                1\n",
       "2551  Новый программный продукт позволяет эффективно...                2\n",
       "8172  В федеральных округах создадут представительст...                1\n",
       "3486  В Москве убит администратор Центральной хораль...                1\n",
       "3300  Самолет с нефтяниками рухнул в море у берегов ...                1"
      ]
     },
     "execution_count": 54,
     "metadata": {},
     "output_type": "execute_result"
    }
   ],
   "source": [
    "unlabeled_title.head()"
   ]
  },
  {
   "cell_type": "code",
   "execution_count": 55,
   "metadata": {},
   "outputs": [],
   "source": [
    "# Определение функции для обучения модели логистической регрессии на размеченных данных\n",
    "def train_model(labeled_title):\n",
    "    # Векторизация текстовых данных с помощью TF-IDF\n",
    "    vectorizer = TfidfVectorizer()\n",
    "    X = vectorizer.fit_transform(labeled_title['title'])\n",
    "    y = labeled_title['sentiment_label']\n",
    "\n",
    "    # Обучение модели логистической регрессии на размеченных данных\n",
    "    model = LogisticRegression()\n",
    "    model.fit(X, y)\n",
    "\n",
    "    return model, vectorizer"
   ]
  },
  {
   "cell_type": "code",
   "execution_count": 56,
   "metadata": {},
   "outputs": [],
   "source": [
    "# Обучение начальной модели на небольшом наборе \n",
    "model, vectorizer = train_model(labeled_title)"
   ]
  },
  {
   "cell_type": "code",
   "execution_count": 57,
   "metadata": {},
   "outputs": [],
   "source": [
    "# Использование исходной модели для прогнозирования настроения неразмеченных данных\n",
    "X_unlabeled = vectorizer.transform(unlabeled_title['title'])\n",
    "y_unlabeled_predicted = model.predict(X_unlabeled)"
   ]
  },
  {
   "cell_type": "code",
   "execution_count": 58,
   "metadata": {},
   "outputs": [],
   "source": [
    "# Вычисление неопределенности или энтропии предсказаний\n",
    "y_unlabeled_proba = model.predict_proba(X_unlabeled)\n",
    "uncertainty = -(y_unlabeled_proba * np.log2(y_unlabeled_proba)).sum(axis=1)"
   ]
  },
  {
   "cell_type": "code",
   "execution_count": 59,
   "metadata": {},
   "outputs": [],
   "source": [
    "# Выбор 100 наиболее неопределенных точек данных для маркировки человеком\n",
    "labeled_title_new = unlabeled_title.iloc[uncertainty.argsort()[:100]]\n",
    "unlabeled_title_new = unlabeled_title.iloc[uncertainty.argsort()[100:]]"
   ]
  },
  {
   "cell_type": "code",
   "execution_count": 60,
   "metadata": {},
   "outputs": [
    {
     "data": {
      "text/html": [
       "<div>\n",
       "<style scoped>\n",
       "    .dataframe tbody tr th:only-of-type {\n",
       "        vertical-align: middle;\n",
       "    }\n",
       "\n",
       "    .dataframe tbody tr th {\n",
       "        vertical-align: top;\n",
       "    }\n",
       "\n",
       "    .dataframe thead th {\n",
       "        text-align: right;\n",
       "    }\n",
       "</style>\n",
       "<table border=\"1\" class=\"dataframe\">\n",
       "  <thead>\n",
       "    <tr style=\"text-align: right;\">\n",
       "      <th></th>\n",
       "      <th>title</th>\n",
       "      <th>sentiment_label</th>\n",
       "    </tr>\n",
       "  </thead>\n",
       "  <tbody>\n",
       "    <tr>\n",
       "      <th>2196</th>\n",
       "      <td>Путин выгонит торговцев из бомбоубежищ</td>\n",
       "      <td>1</td>\n",
       "    </tr>\n",
       "    <tr>\n",
       "      <th>76</th>\n",
       "      <td>Полностью вытеснить боевиков из Карамахи так и...</td>\n",
       "      <td>1</td>\n",
       "    </tr>\n",
       "    <tr>\n",
       "      <th>9107</th>\n",
       "      <td>Из окна школьного кабинета увидели бомбу</td>\n",
       "      <td>1</td>\n",
       "    </tr>\n",
       "    <tr>\n",
       "      <th>5544</th>\n",
       "      <td>Предварительные результаты выборов снова приду...</td>\n",
       "      <td>1</td>\n",
       "    </tr>\n",
       "    <tr>\n",
       "      <th>5615</th>\n",
       "      <td>Контрабанда нефти из Ирака достигла рекордного...</td>\n",
       "      <td>0</td>\n",
       "    </tr>\n",
       "    <tr>\n",
       "      <th>...</th>\n",
       "      <td>...</td>\n",
       "      <td>...</td>\n",
       "    </tr>\n",
       "    <tr>\n",
       "      <th>4999</th>\n",
       "      <td>Ястржембский опроверг информацию о захвате бое...</td>\n",
       "      <td>1</td>\n",
       "    </tr>\n",
       "    <tr>\n",
       "      <th>2057</th>\n",
       "      <td>РАО ЕЭС не боится 2000 года</td>\n",
       "      <td>1</td>\n",
       "    </tr>\n",
       "    <tr>\n",
       "      <th>1450</th>\n",
       "      <td>Из Гудермеса изгоняют ваххабитов?</td>\n",
       "      <td>1</td>\n",
       "    </tr>\n",
       "    <tr>\n",
       "      <th>5496</th>\n",
       "      <td>Гелаев ушел из Комсомольского неделю назад?</td>\n",
       "      <td>1</td>\n",
       "    </tr>\n",
       "    <tr>\n",
       "      <th>5886</th>\n",
       "      <td>Кучма исключил неконституционные вопросы из вс...</td>\n",
       "      <td>1</td>\n",
       "    </tr>\n",
       "  </tbody>\n",
       "</table>\n",
       "<p>100 rows × 2 columns</p>\n",
       "</div>"
      ],
      "text/plain": [
       "                                                  title  sentiment_label\n",
       "2196             Путин выгонит торговцев из бомбоубежищ                1\n",
       "76    Полностью вытеснить боевиков из Карамахи так и...                1\n",
       "9107           Из окна школьного кабинета увидели бомбу                1\n",
       "5544  Предварительные результаты выборов снова приду...                1\n",
       "5615  Контрабанда нефти из Ирака достигла рекордного...                0\n",
       "...                                                 ...              ...\n",
       "4999  Ястржембский опроверг информацию о захвате бое...                1\n",
       "2057                        РАО ЕЭС не боится 2000 года                1\n",
       "1450                  Из Гудермеса изгоняют ваххабитов?                1\n",
       "5496        Гелаев ушел из Комсомольского неделю назад?                1\n",
       "5886  Кучма исключил неконституционные вопросы из вс...                1\n",
       "\n",
       "[100 rows x 2 columns]"
      ]
     },
     "execution_count": 60,
     "metadata": {},
     "output_type": "execute_result"
    }
   ],
   "source": [
    "labeled_title_new"
   ]
  },
  {
   "cell_type": "code",
   "execution_count": 61,
   "metadata": {},
   "outputs": [],
   "source": [
    "# Разметка новых точек данных и добавление их к размеченному множеству\n",
    "labeled_title = pd.concat([labeled_title, labeled_title_new])"
   ]
  },
  {
   "cell_type": "code",
   "execution_count": 62,
   "metadata": {},
   "outputs": [
    {
     "data": {
      "text/plain": [
       "(2100, 2)"
      ]
     },
     "execution_count": 62,
     "metadata": {},
     "output_type": "execute_result"
    }
   ],
   "source": [
    "labeled_title.shape"
   ]
  },
  {
   "cell_type": "code",
   "execution_count": 63,
   "metadata": {},
   "outputs": [
    {
     "data": {
      "text/plain": [
       "(7900, 2)"
      ]
     },
     "execution_count": 63,
     "metadata": {},
     "output_type": "execute_result"
    }
   ],
   "source": [
    "unlabeled_title_new.shape"
   ]
  },
  {
   "cell_type": "code",
   "execution_count": 64,
   "metadata": {},
   "outputs": [],
   "source": [
    "# Переобучение модели на расширенном маркированном множестве\n",
    "model, vectorizer = train_model(labeled_title)"
   ]
  },
  {
   "cell_type": "markdown",
   "metadata": {},
   "source": [
    "### Оценка обучения модели"
   ]
  },
  {
   "cell_type": "code",
   "execution_count": 65,
   "metadata": {},
   "outputs": [],
   "source": [
    "# Загружаем тестовый датасет\n",
    "title_test = pd.read_csv('test.csv', engine='python', on_bad_lines='skip')"
   ]
  },
  {
   "cell_type": "code",
   "execution_count": 66,
   "metadata": {},
   "outputs": [],
   "source": [
    "# Преобразуем в датафрейме буквенное обозначение в цифровое\n",
    "title_test['sentiment_label'] = le.fit_transform(title_test['sentiment_label'].astype(str))"
   ]
  },
  {
   "cell_type": "code",
   "execution_count": 67,
   "metadata": {},
   "outputs": [
    {
     "data": {
      "text/html": [
       "<div>\n",
       "<style scoped>\n",
       "    .dataframe tbody tr th:only-of-type {\n",
       "        vertical-align: middle;\n",
       "    }\n",
       "\n",
       "    .dataframe tbody tr th {\n",
       "        vertical-align: top;\n",
       "    }\n",
       "\n",
       "    .dataframe thead th {\n",
       "        text-align: right;\n",
       "    }\n",
       "</style>\n",
       "<table border=\"1\" class=\"dataframe\">\n",
       "  <thead>\n",
       "    <tr style=\"text-align: right;\">\n",
       "      <th></th>\n",
       "      <th>title</th>\n",
       "      <th>sentiment_label</th>\n",
       "    </tr>\n",
       "  </thead>\n",
       "  <tbody>\n",
       "    <tr>\n",
       "      <th>0</th>\n",
       "      <td>Вагоны московского метро будут складываться га...</td>\n",
       "      <td>1</td>\n",
       "    </tr>\n",
       "    <tr>\n",
       "      <th>1</th>\n",
       "      <td>В Чечню пытались проникнуть наемники из Пакистана</td>\n",
       "      <td>1</td>\n",
       "    </tr>\n",
       "    <tr>\n",
       "      <th>2</th>\n",
       "      <td>Таллинские заключенные предпочитают голод духоте</td>\n",
       "      <td>0</td>\n",
       "    </tr>\n",
       "    <tr>\n",
       "      <th>3</th>\n",
       "      <td>Адвокатам \"Моста\" не удалось дать отвод следов...</td>\n",
       "      <td>1</td>\n",
       "    </tr>\n",
       "    <tr>\n",
       "      <th>4</th>\n",
       "      <td>В поезде Донецк-Москва нашли взрывчатку</td>\n",
       "      <td>1</td>\n",
       "    </tr>\n",
       "  </tbody>\n",
       "</table>\n",
       "</div>"
      ],
      "text/plain": [
       "                                               title  sentiment_label\n",
       "0  Вагоны московского метро будут складываться га...                1\n",
       "1  В Чечню пытались проникнуть наемники из Пакистана                1\n",
       "2   Таллинские заключенные предпочитают голод духоте                0\n",
       "3  Адвокатам \"Моста\" не удалось дать отвод следов...                1\n",
       "4            В поезде Донецк-Москва нашли взрывчатку                1"
      ]
     },
     "execution_count": 67,
     "metadata": {},
     "output_type": "execute_result"
    }
   ],
   "source": [
    "title_test.head()"
   ]
  },
  {
   "cell_type": "code",
   "execution_count": 68,
   "metadata": {},
   "outputs": [
    {
     "name": "stdout",
     "output_type": "stream",
     "text": [
      "0.83948\n"
     ]
    }
   ],
   "source": [
    "# Оценка модели на тестовом датасете\n",
    "X_test = vectorizer.transform(title_test['title'])\n",
    "y_test_predicted = model.predict(X_test)\n",
    "f1 = f1_score(title_test['sentiment_label'], y_test_predicted, average='micro')\n",
    "\n",
    "print(f1)"
   ]
  },
  {
   "cell_type": "markdown",
   "metadata": {},
   "source": [
    "## Вывод:\n",
    "\n",
    "При выполнии разметки выбранного подмножества на основе правил, разметки вручную другого подмножества и объединии двух выборок в один дасет, а также обучении модели эффективность обученной модели составила 84%. Разметка на основе правил существенно экономит трудозатраты."
   ]
  }
 ],
 "metadata": {
  "kernelspec": {
   "display_name": "Python 3",
   "language": "python",
   "name": "python3"
  },
  "language_info": {
   "codemirror_mode": {
    "name": "ipython",
    "version": 3
   },
   "file_extension": ".py",
   "mimetype": "text/x-python",
   "name": "python",
   "nbconvert_exporter": "python",
   "pygments_lexer": "ipython3",
   "version": "3.11.4"
  }
 },
 "nbformat": 4,
 "nbformat_minor": 2
}
