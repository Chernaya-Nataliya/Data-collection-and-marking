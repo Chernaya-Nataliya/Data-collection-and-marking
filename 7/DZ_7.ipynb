{
 "cells": [
  {
   "cell_type": "code",
   "execution_count": 7,
   "id": "9cdccca6d4066646",
   "metadata": {
    "ExecuteTime": {
     "end_time": "2024-04-07T19:23:30.205356Z",
     "start_time": "2024-04-07T19:23:23.309379Z"
    },
    "collapsed": false,
    "jupyter": {
     "outputs_hidden": false
    }
   },
   "outputs": [],
   "source": [
    "from selenium import webdriver\n",
    "from selenium.webdriver.chrome.options import Options\n",
    "from selenium.webdriver.support.ui import WebDriverWait\n",
    "from selenium.webdriver.support import expected_conditions as EC\n",
    "from selenium.webdriver.common.by import By\n",
    "from selenium.webdriver.common.keys import Keys\n",
    "from selenium.webdriver.chrome.service import Service\n",
    "import time\n",
    "import re\n",
    "import pandas as pd\n",
    "import matplotlib.pyplot as plt\n",
    "# Настройка формата вывода чисел float\n",
    "pd.set_option('display.float_format', '{:.2f}'.format)"
   ]
  },
  {
   "cell_type": "code",
   "execution_count": 8,
   "id": "43e5d572",
   "metadata": {},
   "outputs": [],
   "source": [
    "# Путь к драйверу ChromeDriver\n",
    "CHROMEDRIVER_PATH = 'D:/GB/ГБ/Сбор и разметка данных/Data collection and marking/7/chromedriver.exe'\n",
    "\n",
    "# Настройка опций для Chrome\n",
    "options = webdriver.ChromeOptions()\n",
    "options.add_argument(\"--no-sandbox\")\n",
    "options.add_argument(\"--disable-dev-shm-usage\")\n",
    "options.add_argument(\"--disable-gpu\")\n",
    "\n",
    "# Создание объекта Service для ChromeDriver\n",
    "service = Service(executable_path=CHROMEDRIVER_PATH)\n",
    "\n",
    "# Инициализация WebDriver с использованием Service и опций\n",
    "driver = webdriver.Chrome(service=service, options=options)"
   ]
  },
  {
   "cell_type": "code",
   "execution_count": 9,
   "id": "ca2b057c",
   "metadata": {},
   "outputs": [],
   "source": [
    "driver.get('https://www.wildberries.ru/')\n",
    "time.sleep(4)"
   ]
  },
  {
   "cell_type": "code",
   "execution_count": 10,
   "id": "90dedca122f1057f",
   "metadata": {
    "ExecuteTime": {
     "end_time": "2024-04-07T18:22:42.898600Z",
     "start_time": "2024-04-07T18:22:42.788072Z"
    },
    "collapsed": false,
    "jupyter": {
     "outputs_hidden": false
    }
   },
   "outputs": [],
   "source": [
    "wait = WebDriverWait(driver, 10)\n",
    "# Ищем строку поиска\n",
    "input = wait.until(EC.presence_of_element_located((By.ID, \"searchInput\")))\n",
    "# Вводим фразу поиска и нажимаем Enter\n",
    "input.send_keys('аккумулятор для ибп 12v')\n",
    "input.send_keys(Keys.ENTER)"
   ]
  },
  {
   "cell_type": "markdown",
   "id": "7dd83b9570ef744d",
   "metadata": {
    "collapsed": false,
    "jupyter": {
     "outputs_hidden": false
    }
   },
   "source": [
    "### Прокручиваем страницу и записываем все ссылки на аккумуляторы, если есть кнопка \"далее\" - нажимаем её или выходим из цикла "
   ]
  },
  {
   "cell_type": "code",
   "execution_count": 11,
   "id": "b5db71c4bf1c45af",
   "metadata": {
    "ExecuteTime": {
     "end_time": "2024-04-07T18:29:22.712280Z",
     "start_time": "2024-04-07T18:22:42.900594Z"
    },
    "collapsed": false,
    "jupyter": {
     "outputs_hidden": false
    }
   },
   "outputs": [],
   "source": [
    "# Список ссылок на страницы аккумулятора\n",
    "url_list = []\n",
    "\n",
    "while True:\n",
    "    # Количество аккумуляторов на странице\n",
    "    count = None\n",
    "    while True:\n",
    "        time.sleep(4)\n",
    "        # Ожидаем появление объекта (html код) карточек товара\n",
    "        cards = wait.until(EC.presence_of_all_elements_located((By.XPATH, '//article[@id]')))\n",
    "        # Выходим из цикла, если при прокрутке страницы, количество товаров не меняется \n",
    "        if len(cards) == count:\n",
    "            break    \n",
    "        # Вычисляем сколько карточек товара на странице\n",
    "        count = len(cards)\n",
    "        # Прокручиваем страницу выполняя JAVA Script\n",
    "        driver.execute_script('window.scrollBy(0, 1800)')\n",
    "        time.sleep(2)\n",
    "        \n",
    "    # На полностью загруженной странице соберём инфу\n",
    "    for card in cards:\n",
    "        # Записываем ссылку каждого аккумулятора\n",
    "        url = card.find_element(By.XPATH, './div/a').get_attribute('href')\n",
    "        url_list.append(url)\n",
    "    \n",
    "    # Проверяем есть ли кнопка дальше\n",
    "    try:\n",
    "        next = driver.find_element(By.XPATH,  \"//a[@class='pagination-next pagination__next j-next-page']\")\n",
    "        next.click()\n",
    "    except Exception:\n",
    "        break"
   ]
  },
  {
   "cell_type": "code",
   "execution_count": 12,
   "id": "6a44c926f7adea58",
   "metadata": {
    "ExecuteTime": {
     "end_time": "2024-04-07T18:40:33.419809Z",
     "start_time": "2024-04-07T18:40:33.411807Z"
    },
    "collapsed": false,
    "jupyter": {
     "outputs_hidden": false
    }
   },
   "outputs": [
    {
     "name": "stdout",
     "output_type": "stream",
     "text": [
      "Всего получено: 986 ссылок на аккумуляторы\n"
     ]
    }
   ],
   "source": [
    "print(f'Всего получено: {len(url_list)} ссылок на аккумуляторы')"
   ]
  },
  {
   "cell_type": "markdown",
   "id": "d630620ad9f57c25",
   "metadata": {
    "collapsed": false,
    "jupyter": {
     "outputs_hidden": false
    }
   },
   "source": [
    "### Заходим на каждую страницу найденныж аккумуляторов и парсим её"
   ]
  },
  {
   "cell_type": "code",
   "execution_count": 14,
   "id": "467ce333e09bf108",
   "metadata": {
    "ExecuteTime": {
     "end_time": "2024-04-07T19:08:02.354880Z",
     "start_time": "2024-04-07T18:55:25.785715Z"
    },
    "collapsed": false,
    "jupyter": {
     "outputs_hidden": false
    }
   },
   "outputs": [],
   "source": [
    "driver2 = webdriver.Chrome(service=service, options=options)\n",
    "wait2 = WebDriverWait(driver2, 10)\n",
    "acb_list = []\n",
    "\n",
    "# Просматриваем все ссылки ан аккумуляторы\n",
    "for url_item in url_list:\n",
    "    acb_dict = {}\n",
    "    \n",
    "    driver2.get(url_item)\n",
    "    # Заносим назание аккумулятора\n",
    "    acb_dict['name'] = wait2.until(EC.presence_of_element_located((By.XPATH, \"//h1\"))).text\n",
    "    # Заносим цену аккумулятора\n",
    "    price = wait2.until(EC.presence_of_all_elements_located((By.CLASS_NAME, 'price-block__final-price')))\n",
    "    try:\n",
    "        acb_dict['price'] = float(re.sub(r'[^\\d.]+', '', price[1].text))\n",
    "    except Exception:\n",
    "        acb_dict['price'] = None\n",
    "    # Заносим бренд аккумулятора\n",
    "    acb_dict['brend'] = wait2.until(EC.presence_of_element_located((By.CLASS_NAME, \"product-page__header-brand\"))).text\n",
    "    # Заносим url ссылку на аккумулятор\n",
    "    acb_dict['url'] = url_item   \n",
    "    \n",
    "    # Обрабатываем табличные данные\n",
    "    table_label = wait2.until(EC.presence_of_all_elements_located((By.XPATH, '//th')))\n",
    "    table_param = wait2.until(EC.presence_of_all_elements_located((By.XPATH, '//td')))\n",
    "    # Заносим данные в зависимости от названия   \n",
    "    for i in range(len(table_label)):\n",
    "        if table_label[i].text == 'Страна производства':\n",
    "            acb_dict['country'] = table_param[i].text\n",
    "        elif table_label[i].text == 'Емкость аккумулятора (Ач)':\n",
    "            try:\n",
    "                val = table_param[i].text.strip()\n",
    "                val, *_ = val.split()\n",
    "                acb_dict['capacity'] = float(re.sub(r'[^\\d.]+', '', val))\n",
    "            except Exception:\n",
    "                acb_dict['capacity'] = None\n",
    "        elif table_label[i].text == 'Напряжение':\n",
    "             try:\n",
    "                val = table_param[i].text.strip()\n",
    "                val, *_ = val.split() \n",
    "                acb_dict['voltage'] = float(re.sub(r'[^\\d.]+', '', val))\n",
    "             except Exception:\n",
    "                acb_dict['voltage'] = None\n",
    "        \n",
    "    # Добавляем словарь в список аккумуляторов\n",
    "    acb_list.append(acb_dict)"
   ]
  },
  {
   "cell_type": "code",
   "execution_count": 15,
   "id": "99bf89db7b707db9",
   "metadata": {
    "ExecuteTime": {
     "end_time": "2024-04-07T19:08:19.060923Z",
     "start_time": "2024-04-07T19:08:19.053923Z"
    },
    "collapsed": false,
    "jupyter": {
     "outputs_hidden": false
    }
   },
   "outputs": [
    {
     "name": "stdout",
     "output_type": "stream",
     "text": [
      "Обработано 986 товаров\n"
     ]
    }
   ],
   "source": [
    "print(f'Обработано {len(acb_list)} товаров')"
   ]
  },
  {
   "cell_type": "markdown",
   "id": "9bbb530f-e37a-4fef-80e6-a7b4b8474a80",
   "metadata": {},
   "source": [
    "### Посмотрим, что за данные мы получили"
   ]
  },
  {
   "cell_type": "code",
   "execution_count": 16,
   "id": "bdea445a0244dd8e",
   "metadata": {
    "ExecuteTime": {
     "end_time": "2024-04-07T19:30:55.735883Z",
     "start_time": "2024-04-07T19:30:55.716884Z"
    },
    "collapsed": false,
    "jupyter": {
     "outputs_hidden": false
    }
   },
   "outputs": [
    {
     "data": {
      "text/html": [
       "<div>\n",
       "<style scoped>\n",
       "    .dataframe tbody tr th:only-of-type {\n",
       "        vertical-align: middle;\n",
       "    }\n",
       "\n",
       "    .dataframe tbody tr th {\n",
       "        vertical-align: top;\n",
       "    }\n",
       "\n",
       "    .dataframe thead th {\n",
       "        text-align: right;\n",
       "    }\n",
       "</style>\n",
       "<table border=\"1\" class=\"dataframe\">\n",
       "  <thead>\n",
       "    <tr style=\"text-align: right;\">\n",
       "      <th></th>\n",
       "      <th>name</th>\n",
       "      <th>price</th>\n",
       "      <th>brend</th>\n",
       "      <th>url</th>\n",
       "      <th>voltage</th>\n",
       "      <th>country</th>\n",
       "      <th>capacity</th>\n",
       "    </tr>\n",
       "  </thead>\n",
       "  <tbody>\n",
       "    <tr>\n",
       "      <th>0</th>\n",
       "      <td>Аккумулятор ибп 12v 40Ah M6/T14 котлов и насос...</td>\n",
       "      <td>None</td>\n",
       "      <td>Thomas</td>\n",
       "      <td>https://www.wildberries.ru/catalog/168341680/d...</td>\n",
       "      <td>12.00</td>\n",
       "      <td>Китай</td>\n",
       "      <td>40.00</td>\n",
       "    </tr>\n",
       "    <tr>\n",
       "      <th>1</th>\n",
       "      <td>Аккумулятор 12v 7 Ah F1/T1 для пожарной сигнал...</td>\n",
       "      <td>None</td>\n",
       "      <td>Thomas</td>\n",
       "      <td>https://www.wildberries.ru/catalog/194125716/d...</td>\n",
       "      <td>12.00</td>\n",
       "      <td>Китай</td>\n",
       "      <td>7.00</td>\n",
       "    </tr>\n",
       "    <tr>\n",
       "      <th>2</th>\n",
       "      <td>Аккумулятор для ибп 12v 7.2 Ah T2 детского мот...</td>\n",
       "      <td>None</td>\n",
       "      <td>Thomas</td>\n",
       "      <td>https://www.wildberries.ru/catalog/214740442/d...</td>\n",
       "      <td>12.00</td>\n",
       "      <td>Китай</td>\n",
       "      <td>7.20</td>\n",
       "    </tr>\n",
       "    <tr>\n",
       "      <th>3</th>\n",
       "      <td>Аккумулятор для ибп 12v 5Ah F2/T2 фонариков, в...</td>\n",
       "      <td>None</td>\n",
       "      <td>NPP</td>\n",
       "      <td>https://www.wildberries.ru/catalog/170658701/d...</td>\n",
       "      <td>12.00</td>\n",
       "      <td>Китай</td>\n",
       "      <td>5.00</td>\n",
       "    </tr>\n",
       "    <tr>\n",
       "      <th>4</th>\n",
       "      <td>Аккумулятор 12v 7ah акб agm 1207</td>\n",
       "      <td>None</td>\n",
       "      <td>Etalon</td>\n",
       "      <td>https://www.wildberries.ru/catalog/149737382/d...</td>\n",
       "      <td>12.00</td>\n",
       "      <td>Китай</td>\n",
       "      <td>7.00</td>\n",
       "    </tr>\n",
       "  </tbody>\n",
       "</table>\n",
       "</div>"
      ],
      "text/plain": [
       "                                                name price   brend  \\\n",
       "0  Аккумулятор ибп 12v 40Ah M6/T14 котлов и насос...  None  Thomas   \n",
       "1  Аккумулятор 12v 7 Ah F1/T1 для пожарной сигнал...  None  Thomas   \n",
       "2  Аккумулятор для ибп 12v 7.2 Ah T2 детского мот...  None  Thomas   \n",
       "3  Аккумулятор для ибп 12v 5Ah F2/T2 фонариков, в...  None     NPP   \n",
       "4                   Аккумулятор 12v 7ah акб agm 1207  None  Etalon   \n",
       "\n",
       "                                                 url  voltage country  \\\n",
       "0  https://www.wildberries.ru/catalog/168341680/d...    12.00   Китай   \n",
       "1  https://www.wildberries.ru/catalog/194125716/d...    12.00   Китай   \n",
       "2  https://www.wildberries.ru/catalog/214740442/d...    12.00   Китай   \n",
       "3  https://www.wildberries.ru/catalog/170658701/d...    12.00   Китай   \n",
       "4  https://www.wildberries.ru/catalog/149737382/d...    12.00   Китай   \n",
       "\n",
       "   capacity  \n",
       "0     40.00  \n",
       "1      7.00  \n",
       "2      7.20  \n",
       "3      5.00  \n",
       "4      7.00  "
      ]
     },
     "execution_count": 16,
     "metadata": {},
     "output_type": "execute_result"
    }
   ],
   "source": [
    "df = pd.DataFrame(acb_list)\n",
    "df.head()"
   ]
  },
  {
   "cell_type": "code",
   "execution_count": 17,
   "id": "66a8be8be4590e0b",
   "metadata": {
    "ExecuteTime": {
     "end_time": "2024-04-07T19:34:45.641291Z",
     "start_time": "2024-04-07T19:34:45.616287Z"
    },
    "collapsed": false,
    "jupyter": {
     "outputs_hidden": false
    }
   },
   "outputs": [
    {
     "name": "stdout",
     "output_type": "stream",
     "text": [
      "<class 'pandas.core.frame.DataFrame'>\n",
      "RangeIndex: 986 entries, 0 to 985\n",
      "Data columns (total 7 columns):\n",
      " #   Column    Non-Null Count  Dtype  \n",
      "---  ------    --------------  -----  \n",
      " 0   name      986 non-null    object \n",
      " 1   price     0 non-null      object \n",
      " 2   brend     986 non-null    object \n",
      " 3   url       986 non-null    object \n",
      " 4   voltage   876 non-null    float64\n",
      " 5   country   862 non-null    object \n",
      " 6   capacity  877 non-null    float64\n",
      "dtypes: float64(2), object(5)\n",
      "memory usage: 54.1+ KB\n"
     ]
    }
   ],
   "source": [
    "df.info()"
   ]
  },
  {
   "cell_type": "markdown",
   "id": "0c992e20-292a-41dc-b34d-9189d44787da",
   "metadata": {},
   "source": [
    "### Какие производители аккумуляторов для ИБП представлены на Wildberries"
   ]
  },
  {
   "cell_type": "code",
   "execution_count": 18,
   "id": "6198963f-10f4-4610-8ab8-043733bcb536",
   "metadata": {},
   "outputs": [
    {
     "data": {
      "text/plain": [
       "country\n",
       "Китай       795\n",
       "Вьетнам      42\n",
       "Россия        7\n",
       "Тайвань       7\n",
       "Польша        6\n",
       "Словения      4\n",
       "中国            1\n",
       "Name: count, dtype: int64"
      ]
     },
     "execution_count": 18,
     "metadata": {},
     "output_type": "execute_result"
    }
   ],
   "source": [
    "data = df['country'].value_counts()\n",
    "names = data.index\n",
    "values = data.values\n",
    "data"
   ]
  },
  {
   "cell_type": "code",
   "execution_count": 19,
   "id": "3868dae0-fbd4-4ad8-9fd6-de49709c8a40",
   "metadata": {},
   "outputs": [
    {
     "name": "stderr",
     "output_type": "stream",
     "text": [
      "C:\\Users\\chern\\AppData\\Roaming\\Python\\Python311\\site-packages\\IPython\\core\\pylabtools.py:152: UserWarning: Glyph 20013 (\\N{CJK UNIFIED IDEOGRAPH-4E2D}) missing from current font.\n",
      "  fig.canvas.print_figure(bytes_io, **kw)\n",
      "C:\\Users\\chern\\AppData\\Roaming\\Python\\Python311\\site-packages\\IPython\\core\\pylabtools.py:152: UserWarning: Glyph 22269 (\\N{CJK UNIFIED IDEOGRAPH-56FD}) missing from current font.\n",
      "  fig.canvas.print_figure(bytes_io, **kw)\n"
     ]
    },
    {
     "data": {
      "image/png": "[encoded data removed]",
      "text/plain": [
       "<Figure size 640x480 with 1 Axes>"
      ]
     },
     "metadata": {},
     "output_type": "display_data"
    }
   ],
   "source": [
    "plt.pie(values, autopct='%.1f%%', labels=names)\n",
    "plt.show()"
   ]
  },
  {
   "cell_type": "markdown",
   "id": "cde8b4ac-44b5-424d-9a55-17501a5d2218",
   "metadata": {},
   "source": [
    "### Топ 10 популярных компаний"
   ]
  },
  {
   "cell_type": "code",
   "execution_count": 21,
   "id": "1a829758-8ded-439e-bd5b-2bf87e120df4",
   "metadata": {},
   "outputs": [
    {
     "data": {
      "text/plain": [
       "brend\n",
       "DELTA BATTERY       180\n",
       "General Security     61\n",
       "CSB                  44\n",
       "ZUBR                 40\n",
       "Kiper Power          40\n",
       "NPP                  40\n",
       "Alfa Battery         38\n",
       "Security Force       37\n",
       "WBR                  30\n",
       "LEOCH                27\n",
       "Name: count, dtype: int64"
      ]
     },
     "execution_count": 21,
     "metadata": {},
     "output_type": "execute_result"
    }
   ],
   "source": [
    "data = df['brend'].value_counts()\n",
    "names = data.index\n",
    "values = data.values\n",
    "data.head(10)"
   ]
  },
  {
   "cell_type": "markdown",
   "id": "cb35c7d0-1a94-45a5-a5c6-ee8fb0acab46",
   "metadata": {},
   "source": [
    "### Запишем полученные данные в БД MongoDB"
   ]
  },
  {
   "cell_type": "code",
   "execution_count": 22,
   "id": "c3ed3d4d-fd87-419f-ace2-11e9d3eedebf",
   "metadata": {},
   "outputs": [],
   "source": [
    "from pymongo import MongoClient"
   ]
  },
  {
   "cell_type": "code",
   "execution_count": 23,
   "id": "7fa3b599-48f3-428b-a8f0-9ed533fa6de2",
   "metadata": {},
   "outputs": [],
   "source": [
    "# Подключение к серверу MongoDB\n",
    "client = MongoClient('mongodb://localhost:27017/')\n",
    "# Выбор базы данных и коллекции\n",
    "db = client['acb']\n",
    "collection = db['acb_12v']"
   ]
  },
  {
   "cell_type": "code",
   "execution_count": 24,
   "id": "35c3649b-1cf1-485d-be1a-dd4e747f7360",
   "metadata": {},
   "outputs": [
    {
     "data": {
      "text/plain": [
       "InsertManyResult([ObjectId('664b73b9e35f78a11dd72588'), ObjectId('664b73b9e35f78a11dd72589'), ObjectId('664b73b9e35f78a11dd7258a'), ObjectId('664b73b9e35f78a11dd7258b'), ObjectId('664b73b9e35f78a11dd7258c'), ObjectId('664b73b9e35f78a11dd7258d'), ObjectId('664b73b9e35f78a11dd7258e'), ObjectId('664b73b9e35f78a11dd7258f'), ObjectId('664b73b9e35f78a11dd72590'), ObjectId('664b73b9e35f78a11dd72591'), ObjectId('664b73b9e35f78a11dd72592'), ObjectId('664b73b9e35f78a11dd72593'), ObjectId('664b73b9e35f78a11dd72594'), ObjectId('664b73b9e35f78a11dd72595'), ObjectId('664b73b9e35f78a11dd72596'), ObjectId('664b73b9e35f78a11dd72597'), ObjectId('664b73b9e35f78a11dd72598'), ObjectId('664b73b9e35f78a11dd72599'), ObjectId('664b73b9e35f78a11dd7259a'), ObjectId('664b73b9e35f78a11dd7259b'), ObjectId('664b73b9e35f78a11dd7259c'), ObjectId('664b73b9e35f78a11dd7259d'), ObjectId('664b73b9e35f78a11dd7259e'), ObjectId('664b73b9e35f78a11dd7259f'), ObjectId('664b73b9e35f78a11dd725a0'), ObjectId('664b73b9e35f78a11dd725a1'), ObjectId('664b73b9e35f78a11dd725a2'), ObjectId('664b73b9e35f78a11dd725a3'), ObjectId('664b73b9e35f78a11dd725a4'), ObjectId('664b73b9e35f78a11dd725a5'), ObjectId('664b73b9e35f78a11dd725a6'), ObjectId('664b73b9e35f78a11dd725a7'), ObjectId('664b73b9e35f78a11dd725a8'), ObjectId('664b73b9e35f78a11dd725a9'), ObjectId('664b73b9e35f78a11dd725aa'), ObjectId('664b73b9e35f78a11dd725ab'), ObjectId('664b73b9e35f78a11dd725ac'), ObjectId('664b73b9e35f78a11dd725ad'), ObjectId('664b73b9e35f78a11dd725ae'), ObjectId('664b73b9e35f78a11dd725af'), ObjectId('664b73b9e35f78a11dd725b0'), ObjectId('664b73b9e35f78a11dd725b1'), ObjectId('664b73b9e35f78a11dd725b2'), ObjectId('664b73b9e35f78a11dd725b3'), ObjectId('664b73b9e35f78a11dd725b4'), ObjectId('664b73b9e35f78a11dd725b5'), ObjectId('664b73b9e35f78a11dd725b6'), ObjectId('664b73b9e35f78a11dd725b7'), ObjectId('664b73b9e35f78a11dd725b8'), ObjectId('664b73b9e35f78a11dd725b9'), ObjectId('664b73b9e35f78a11dd725ba'), ObjectId('664b73b9e35f78a11dd725bb'), ObjectId('664b73b9e35f78a11dd725bc'), ObjectId('664b73b9e35f78a11dd725bd'), ObjectId('664b73b9e35f78a11dd725be'), ObjectId('664b73b9e35f78a11dd725bf'), ObjectId('664b73b9e35f78a11dd725c0'), ObjectId('664b73b9e35f78a11dd725c1'), ObjectId('664b73b9e35f78a11dd725c2'), ObjectId('664b73b9e35f78a11dd725c3'), ObjectId('664b73b9e35f78a11dd725c4'), ObjectId('664b73b9e35f78a11dd725c5'), ObjectId('664b73b9e35f78a11dd725c6'), ObjectId('664b73b9e35f78a11dd725c7'), ObjectId('664b73b9e35f78a11dd725c8'), ObjectId('664b73b9e35f78a11dd725c9'), ObjectId('664b73b9e35f78a11dd725ca'), ObjectId('664b73b9e35f78a11dd725cb'), ObjectId('664b73b9e35f78a11dd725cc'), ObjectId('664b73b9e35f78a11dd725cd'), ObjectId('664b73b9e35f78a11dd725ce'), ObjectId('664b73b9e35f78a11dd725cf'), ObjectId('664b73b9e35f78a11dd725d0'), ObjectId('664b73b9e35f78a11dd725d1'), ObjectId('664b73b9e35f78a11dd725d2'), ObjectId('664b73b9e35f78a11dd725d3'), ObjectId('664b73b9e35f78a11dd725d4'), ObjectId('664b73b9e35f78a11dd725d5'), ObjectId('664b73b9e35f78a11dd725d6'), ObjectId('664b73b9e35f78a11dd725d7'), ObjectId('664b73b9e35f78a11dd725d8'), ObjectId('664b73b9e35f78a11dd725d9'), ObjectId('664b73b9e35f78a11dd725da'), ObjectId('664b73b9e35f78a11dd725db'), ObjectId('664b73b9e35f78a11dd725dc'), ObjectId('664b73b9e35f78a11dd725dd'), ObjectId('664b73b9e35f78a11dd725de'), ObjectId('664b73b9e35f78a11dd725df'), ObjectId('664b73b9e35f78a11dd725e0'), ObjectId('664b73b9e35f78a11dd725e1'), ObjectId('664b73b9e35f78a11dd725e2'), ObjectId('664b73b9e35f78a11dd725e3'), ObjectId('664b73b9e35f78a11dd725e4'), ObjectId('664b73b9e35f78a11dd725e5'), ObjectId('664b73b9e35f78a11dd725e6'), ObjectId('664b73b9e35f78a11dd725e7'), ObjectId('664b73b9e35f78a11dd725e8'), ObjectId('664b73b9e35f78a11dd725e9'), ObjectId('664b73b9e35f78a11dd725ea'), ObjectId('664b73b9e35f78a11dd725eb'), ObjectId('664b73b9e35f78a11dd725ec'), ObjectId('664b73b9e35f78a11dd725ed'), ObjectId('664b73b9e35f78a11dd725ee'), ObjectId('664b73b9e35f78a11dd725ef'), ObjectId('664b73b9e35f78a11dd725f0'), ObjectId('664b73b9e35f78a11dd725f1'), ObjectId('664b73b9e35f78a11dd725f2'), ObjectId('664b73b9e35f78a11dd725f3'), ObjectId('664b73b9e35f78a11dd725f4'), ObjectId('664b73b9e35f78a11dd725f5'), ObjectId('664b73b9e35f78a11dd725f6'), ObjectId('664b73b9e35f78a11dd725f7'), ObjectId('664b73b9e35f78a11dd725f8'), ObjectId('664b73b9e35f78a11dd725f9'), ObjectId('664b73b9e35f78a11dd725fa'), ObjectId('664b73b9e35f78a11dd725fb'), ObjectId('664b73b9e35f78a11dd725fc'), ObjectId('664b73b9e35f78a11dd725fd'), ObjectId('664b73b9e35f78a11dd725fe'), ObjectId('664b73b9e35f78a11dd725ff'), ObjectId('664b73b9e35f78a11dd72600'), ObjectId('664b73b9e35f78a11dd72601'), ObjectId('664b73b9e35f78a11dd72602'), ObjectId('664b73b9e35f78a11dd72603'), ObjectId('664b73b9e35f78a11dd72604'), ObjectId('664b73b9e35f78a11dd72605'), ObjectId('664b73b9e35f78a11dd72606'), ObjectId('664b73b9e35f78a11dd72607'), ObjectId('664b73b9e35f78a11dd72608'), ObjectId('664b73b9e35f78a11dd72609'), ObjectId('664b73b9e35f78a11dd7260a'), ObjectId('664b73b9e35f78a11dd7260b'), ObjectId('664b73b9e35f78a11dd7260c'), ObjectId('664b73b9e35f78a11dd7260d'), ObjectId('664b73b9e35f78a11dd7260e'), ObjectId('664b73b9e35f78a11dd7260f'), ObjectId('664b73b9e35f78a11dd72610'), ObjectId('664b73b9e35f78a11dd72611'), ObjectId('664b73b9e35f78a11dd72612'), ObjectId('664b73b9e35f78a11dd72613'), ObjectId('664b73b9e35f78a11dd72614'), ObjectId('664b73b9e35f78a11dd72615'), ObjectId('664b73b9e35f78a11dd72616'), ObjectId('664b73b9e35f78a11dd72617'), ObjectId('664b73b9e35f78a11dd72618'), ObjectId('664b73b9e35f78a11dd72619'), ObjectId('664b73b9e35f78a11dd7261a'), ObjectId('664b73b9e35f78a11dd7261b'), ObjectId('664b73b9e35f78a11dd7261c'), ObjectId('664b73b9e35f78a11dd7261d'), ObjectId('664b73b9e35f78a11dd7261e'), ObjectId('664b73b9e35f78a11dd7261f'), ObjectId('664b73b9e35f78a11dd72620'), ObjectId('664b73b9e35f78a11dd72621'), ObjectId('664b73b9e35f78a11dd72622'), ObjectId('664b73b9e35f78a11dd72623'), ObjectId('664b73b9e35f78a11dd72624'), ObjectId('664b73b9e35f78a11dd72625'), ObjectId('664b73b9e35f78a11dd72626'), ObjectId('664b73b9e35f78a11dd72627'), ObjectId('664b73b9e35f78a11dd72628'), ObjectId('664b73b9e35f78a11dd72629'), ObjectId('664b73b9e35f78a11dd7262a'), ObjectId('664b73b9e35f78a11dd7262b'), ObjectId('664b73b9e35f78a11dd7262c'), ObjectId('664b73b9e35f78a11dd7262d'), ObjectId('664b73b9e35f78a11dd7262e'), ObjectId('664b73b9e35f78a11dd7262f'), ObjectId('664b73b9e35f78a11dd72630'), ObjectId('664b73b9e35f78a11dd72631'), ObjectId('664b73b9e35f78a11dd72632'), ObjectId('664b73b9e35f78a11dd72633'), ObjectId('664b73b9e35f78a11dd72634'), ObjectId('664b73b9e35f78a11dd72635'), ObjectId('664b73b9e35f78a11dd72636'), ObjectId('664b73b9e35f78a11dd72637'), ObjectId('664b73b9e35f78a11dd72638'), ObjectId('664b73b9e35f78a11dd72639'), ObjectId('664b73b9e35f78a11dd7263a'), ObjectId('664b73b9e35f78a11dd7263b'), ObjectId('664b73b9e35f78a11dd7263c'), ObjectId('664b73b9e35f78a11dd7263d'), ObjectId('664b73b9e35f78a11dd7263e'), ObjectId('664b73b9e35f78a11dd7263f'), ObjectId('664b73b9e35f78a11dd72640'), ObjectId('664b73b9e35f78a11dd72641'), ObjectId('664b73b9e35f78a11dd72642'), ObjectId('664b73b9e35f78a11dd72643'), ObjectId('664b73b9e35f78a11dd72644'), ObjectId('664b73b9e35f78a11dd72645'), ObjectId('664b73b9e35f78a11dd72646'), ObjectId('664b73b9e35f78a11dd72647'), ObjectId('664b73b9e35f78a11dd72648'), ObjectId('664b73b9e35f78a11dd72649'), ObjectId('664b73b9e35f78a11dd7264a'), ObjectId('664b73b9e35f78a11dd7264b'), ObjectId('664b73b9e35f78a11dd7264c'), ObjectId('664b73b9e35f78a11dd7264d'), ObjectId('664b73b9e35f78a11dd7264e'), ObjectId('664b73b9e35f78a11dd7264f'), ObjectId('664b73b9e35f78a11dd72650'), ObjectId('664b73b9e35f78a11dd72651'), ObjectId('664b73b9e35f78a11dd72652'), ObjectId('664b73b9e35f78a11dd72653'), ObjectId('664b73b9e35f78a11dd72654'), ObjectId('664b73b9e35f78a11dd72655'), ObjectId('664b73b9e35f78a11dd72656'), ObjectId('664b73b9e35f78a11dd72657'), ObjectId('664b73b9e35f78a11dd72658'), ObjectId('664b73b9e35f78a11dd72659'), ObjectId('664b73b9e35f78a11dd7265a'), ObjectId('664b73b9e35f78a11dd7265b'), ObjectId('664b73b9e35f78a11dd7265c'), ObjectId('664b73b9e35f78a11dd7265d'), ObjectId('664b73b9e35f78a11dd7265e'), ObjectId('664b73b9e35f78a11dd7265f'), ObjectId('664b73b9e35f78a11dd72660'), ObjectId('664b73b9e35f78a11dd72661'), ObjectId('664b73b9e35f78a11dd72662'), ObjectId('664b73b9e35f78a11dd72663'), ObjectId('664b73b9e35f78a11dd72664'), ObjectId('664b73b9e35f78a11dd72665'), ObjectId('664b73b9e35f78a11dd72666'), ObjectId('664b73b9e35f78a11dd72667'), ObjectId('664b73b9e35f78a11dd72668'), ObjectId('664b73b9e35f78a11dd72669'), ObjectId('664b73b9e35f78a11dd7266a'), ObjectId('664b73b9e35f78a11dd7266b'), ObjectId('664b73b9e35f78a11dd7266c'), ObjectId('664b73b9e35f78a11dd7266d'), ObjectId('664b73b9e35f78a11dd7266e'), ObjectId('664b73b9e35f78a11dd7266f'), ObjectId('664b73b9e35f78a11dd72670'), ObjectId('664b73b9e35f78a11dd72671'), ObjectId('664b73b9e35f78a11dd72672'), ObjectId('664b73b9e35f78a11dd72673'), ObjectId('664b73b9e35f78a11dd72674'), ObjectId('664b73b9e35f78a11dd72675'), ObjectId('664b73b9e35f78a11dd72676'), ObjectId('664b73b9e35f78a11dd72677'), ObjectId('664b73b9e35f78a11dd72678'), ObjectId('664b73b9e35f78a11dd72679'), ObjectId('664b73b9e35f78a11dd7267a'), ObjectId('664b73b9e35f78a11dd7267b'), ObjectId('664b73b9e35f78a11dd7267c'), ObjectId('664b73b9e35f78a11dd7267d'), ObjectId('664b73b9e35f78a11dd7267e'), ObjectId('664b73b9e35f78a11dd7267f'), ObjectId('664b73b9e35f78a11dd72680'), ObjectId('664b73b9e35f78a11dd72681'), ObjectId('664b73b9e35f78a11dd72682'), ObjectId('664b73b9e35f78a11dd72683'), ObjectId('664b73b9e35f78a11dd72684'), ObjectId('664b73b9e35f78a11dd72685'), ObjectId('664b73b9e35f78a11dd72686'), ObjectId('664b73b9e35f78a11dd72687'), ObjectId('664b73b9e35f78a11dd72688'), ObjectId('664b73b9e35f78a11dd72689'), ObjectId('664b73b9e35f78a11dd7268a'), ObjectId('664b73b9e35f78a11dd7268b'), ObjectId('664b73b9e35f78a11dd7268c'), ObjectId('664b73b9e35f78a11dd7268d'), ObjectId('664b73b9e35f78a11dd7268e'), ObjectId('664b73b9e35f78a11dd7268f'), ObjectId('664b73b9e35f78a11dd72690'), ObjectId('664b73b9e35f78a11dd72691'), ObjectId('664b73b9e35f78a11dd72692'), ObjectId('664b73b9e35f78a11dd72693'), ObjectId('664b73b9e35f78a11dd72694'), ObjectId('664b73b9e35f78a11dd72695'), ObjectId('664b73b9e35f78a11dd72696'), ObjectId('664b73b9e35f78a11dd72697'), ObjectId('664b73b9e35f78a11dd72698'), ObjectId('664b73b9e35f78a11dd72699'), ObjectId('664b73b9e35f78a11dd7269a'), ObjectId('664b73b9e35f78a11dd7269b'), ObjectId('664b73b9e35f78a11dd7269c'), ObjectId('664b73b9e35f78a11dd7269d'), ObjectId('664b73b9e35f78a11dd7269e'), ObjectId('664b73b9e35f78a11dd7269f'), ObjectId('664b73b9e35f78a11dd726a0'), ObjectId('664b73b9e35f78a11dd726a1'), ObjectId('664b73b9e35f78a11dd726a2'), ObjectId('664b73b9e35f78a11dd726a3'), ObjectId('664b73b9e35f78a11dd726a4'), ObjectId('664b73b9e35f78a11dd726a5'), ObjectId('664b73b9e35f78a11dd726a6'), ObjectId('664b73b9e35f78a11dd726a7'), ObjectId('664b73b9e35f78a11dd726a8'), ObjectId('664b73b9e35f78a11dd726a9'), ObjectId('664b73b9e35f78a11dd726aa'), ObjectId('664b73b9e35f78a11dd726ab'), ObjectId('664b73b9e35f78a11dd726ac'), ObjectId('664b73b9e35f78a11dd726ad'), ObjectId('664b73b9e35f78a11dd726ae'), ObjectId('664b73b9e35f78a11dd726af'), ObjectId('664b73b9e35f78a11dd726b0'), ObjectId('664b73b9e35f78a11dd726b1'), ObjectId('664b73b9e35f78a11dd726b2'), ObjectId('664b73b9e35f78a11dd726b3'), ObjectId('664b73b9e35f78a11dd726b4'), ObjectId('664b73b9e35f78a11dd726b5'), ObjectId('664b73b9e35f78a11dd726b6'), ObjectId('664b73b9e35f78a11dd726b7'), ObjectId('664b73b9e35f78a11dd726b8'), ObjectId('664b73b9e35f78a11dd726b9'), ObjectId('664b73b9e35f78a11dd726ba'), ObjectId('664b73b9e35f78a11dd726bb'), ObjectId('664b73b9e35f78a11dd726bc'), ObjectId('664b73b9e35f78a11dd726bd'), ObjectId('664b73b9e35f78a11dd726be'), ObjectId('664b73b9e35f78a11dd726bf'), ObjectId('664b73b9e35f78a11dd726c0'), ObjectId('664b73b9e35f78a11dd726c1'), ObjectId('664b73b9e35f78a11dd726c2'), ObjectId('664b73b9e35f78a11dd726c3'), ObjectId('664b73b9e35f78a11dd726c4'), ObjectId('664b73b9e35f78a11dd726c5'), ObjectId('664b73b9e35f78a11dd726c6'), ObjectId('664b73b9e35f78a11dd726c7'), ObjectId('664b73b9e35f78a11dd726c8'), ObjectId('664b73b9e35f78a11dd726c9'), ObjectId('664b73b9e35f78a11dd726ca'), ObjectId('664b73b9e35f78a11dd726cb'), ObjectId('664b73b9e35f78a11dd726cc'), ObjectId('664b73b9e35f78a11dd726cd'), ObjectId('664b73b9e35f78a11dd726ce'), ObjectId('664b73b9e35f78a11dd726cf'), ObjectId('664b73b9e35f78a11dd726d0'), ObjectId('664b73b9e35f78a11dd726d1'), ObjectId('664b73b9e35f78a11dd726d2'), ObjectId('664b73b9e35f78a11dd726d3'), ObjectId('664b73b9e35f78a11dd726d4'), ObjectId('664b73b9e35f78a11dd726d5'), ObjectId('664b73b9e35f78a11dd726d6'), ObjectId('664b73b9e35f78a11dd726d7'), ObjectId('664b73b9e35f78a11dd726d8'), ObjectId('664b73b9e35f78a11dd726d9'), ObjectId('664b73b9e35f78a11dd726da'), ObjectId('664b73b9e35f78a11dd726db'), ObjectId('664b73b9e35f78a11dd726dc'), ObjectId('664b73b9e35f78a11dd726dd'), ObjectId('664b73b9e35f78a11dd726de'), ObjectId('664b73b9e35f78a11dd726df'), ObjectId('664b73b9e35f78a11dd726e0'), ObjectId('664b73b9e35f78a11dd726e1'), ObjectId('664b73b9e35f78a11dd726e2'), ObjectId('664b73b9e35f78a11dd726e3'), ObjectId('664b73b9e35f78a11dd726e4'), ObjectId('664b73b9e35f78a11dd726e5'), ObjectId('664b73b9e35f78a11dd726e6'), ObjectId('664b73b9e35f78a11dd726e7'), ObjectId('664b73b9e35f78a11dd726e8'), ObjectId('664b73b9e35f78a11dd726e9'), ObjectId('664b73b9e35f78a11dd726ea'), ObjectId('664b73b9e35f78a11dd726eb'), ObjectId('664b73b9e35f78a11dd726ec'), ObjectId('664b73b9e35f78a11dd726ed'), ObjectId('664b73b9e35f78a11dd726ee'), ObjectId('664b73b9e35f78a11dd726ef'), ObjectId('664b73b9e35f78a11dd726f0'), ObjectId('664b73b9e35f78a11dd726f1'), ObjectId('664b73b9e35f78a11dd726f2'), ObjectId('664b73b9e35f78a11dd726f3'), ObjectId('664b73b9e35f78a11dd726f4'), ObjectId('664b73b9e35f78a11dd726f5'), ObjectId('664b73b9e35f78a11dd726f6'), ObjectId('664b73b9e35f78a11dd726f7'), ObjectId('664b73b9e35f78a11dd726f8'), ObjectId('664b73b9e35f78a11dd726f9'), ObjectId('664b73b9e35f78a11dd726fa'), ObjectId('664b73b9e35f78a11dd726fb'), ObjectId('664b73b9e35f78a11dd726fc'), ObjectId('664b73b9e35f78a11dd726fd'), ObjectId('664b73b9e35f78a11dd726fe'), ObjectId('664b73b9e35f78a11dd726ff'), ObjectId('664b73b9e35f78a11dd72700'), ObjectId('664b73b9e35f78a11dd72701'), ObjectId('664b73b9e35f78a11dd72702'), ObjectId('664b73b9e35f78a11dd72703'), ObjectId('664b73b9e35f78a11dd72704'), ObjectId('664b73b9e35f78a11dd72705'), ObjectId('664b73b9e35f78a11dd72706'), ObjectId('664b73b9e35f78a11dd72707'), ObjectId('664b73b9e35f78a11dd72708'), ObjectId('664b73b9e35f78a11dd72709'), ObjectId('664b73b9e35f78a11dd7270a'), ObjectId('664b73b9e35f78a11dd7270b'), ObjectId('664b73b9e35f78a11dd7270c'), ObjectId('664b73b9e35f78a11dd7270d'), ObjectId('664b73b9e35f78a11dd7270e'), ObjectId('664b73b9e35f78a11dd7270f'), ObjectId('664b73b9e35f78a11dd72710'), ObjectId('664b73b9e35f78a11dd72711'), ObjectId('664b73b9e35f78a11dd72712'), ObjectId('664b73b9e35f78a11dd72713'), ObjectId('664b73b9e35f78a11dd72714'), ObjectId('664b73b9e35f78a11dd72715'), ObjectId('664b73b9e35f78a11dd72716'), ObjectId('664b73b9e35f78a11dd72717'), ObjectId('664b73b9e35f78a11dd72718'), ObjectId('664b73b9e35f78a11dd72719'), ObjectId('664b73b9e35f78a11dd7271a'), ObjectId('664b73b9e35f78a11dd7271b'), ObjectId('664b73b9e35f78a11dd7271c'), ObjectId('664b73b9e35f78a11dd7271d'), ObjectId('664b73b9e35f78a11dd7271e'), ObjectId('664b73b9e35f78a11dd7271f'), ObjectId('664b73b9e35f78a11dd72720'), ObjectId('664b73b9e35f78a11dd72721'), ObjectId('664b73b9e35f78a11dd72722'), ObjectId('664b73b9e35f78a11dd72723'), ObjectId('664b73b9e35f78a11dd72724'), ObjectId('664b73b9e35f78a11dd72725'), ObjectId('664b73b9e35f78a11dd72726'), ObjectId('664b73b9e35f78a11dd72727'), ObjectId('664b73b9e35f78a11dd72728'), ObjectId('664b73b9e35f78a11dd72729'), ObjectId('664b73b9e35f78a11dd7272a'), ObjectId('664b73b9e35f78a11dd7272b'), ObjectId('664b73b9e35f78a11dd7272c'), ObjectId('664b73b9e35f78a11dd7272d'), ObjectId('664b73b9e35f78a11dd7272e'), ObjectId('664b73b9e35f78a11dd7272f'), ObjectId('664b73b9e35f78a11dd72730'), ObjectId('664b73b9e35f78a11dd72731'), ObjectId('664b73b9e35f78a11dd72732'), ObjectId('664b73b9e35f78a11dd72733'), ObjectId('664b73b9e35f78a11dd72734'), ObjectId('664b73b9e35f78a11dd72735'), ObjectId('664b73b9e35f78a11dd72736'), ObjectId('664b73b9e35f78a11dd72737'), ObjectId('664b73b9e35f78a11dd72738'), ObjectId('664b73b9e35f78a11dd72739'), ObjectId('664b73b9e35f78a11dd7273a'), ObjectId('664b73b9e35f78a11dd7273b'), ObjectId('664b73b9e35f78a11dd7273c'), ObjectId('664b73b9e35f78a11dd7273d'), ObjectId('664b73b9e35f78a11dd7273e'), ObjectId('664b73b9e35f78a11dd7273f'), ObjectId('664b73b9e35f78a11dd72740'), ObjectId('664b73b9e35f78a11dd72741'), ObjectId('664b73b9e35f78a11dd72742'), ObjectId('664b73b9e35f78a11dd72743'), ObjectId('664b73b9e35f78a11dd72744'), ObjectId('664b73b9e35f78a11dd72745'), ObjectId('664b73b9e35f78a11dd72746'), ObjectId('664b73b9e35f78a11dd72747'), ObjectId('664b73b9e35f78a11dd72748'), ObjectId('664b73b9e35f78a11dd72749'), ObjectId('664b73b9e35f78a11dd7274a'), ObjectId('664b73b9e35f78a11dd7274b'), ObjectId('664b73b9e35f78a11dd7274c'), ObjectId('664b73b9e35f78a11dd7274d'), ObjectId('664b73b9e35f78a11dd7274e'), ObjectId('664b73b9e35f78a11dd7274f'), ObjectId('664b73b9e35f78a11dd72750'), ObjectId('664b73b9e35f78a11dd72751'), ObjectId('664b73b9e35f78a11dd72752'), ObjectId('664b73b9e35f78a11dd72753'), ObjectId('664b73b9e35f78a11dd72754'), ObjectId('664b73b9e35f78a11dd72755'), ObjectId('664b73b9e35f78a11dd72756'), ObjectId('664b73b9e35f78a11dd72757'), ObjectId('664b73b9e35f78a11dd72758'), ObjectId('664b73b9e35f78a11dd72759'), ObjectId('664b73b9e35f78a11dd7275a'), ObjectId('664b73b9e35f78a11dd7275b'), ObjectId('664b73b9e35f78a11dd7275c'), ObjectId('664b73b9e35f78a11dd7275d'), ObjectId('664b73b9e35f78a11dd7275e'), ObjectId('664b73b9e35f78a11dd7275f'), ObjectId('664b73b9e35f78a11dd72760'), ObjectId('664b73b9e35f78a11dd72761'), ObjectId('664b73b9e35f78a11dd72762'), ObjectId('664b73b9e35f78a11dd72763'), ObjectId('664b73b9e35f78a11dd72764'), ObjectId('664b73b9e35f78a11dd72765'), ObjectId('664b73b9e35f78a11dd72766'), ObjectId('664b73b9e35f78a11dd72767'), ObjectId('664b73b9e35f78a11dd72768'), ObjectId('664b73b9e35f78a11dd72769'), ObjectId('664b73b9e35f78a11dd7276a'), ObjectId('664b73b9e35f78a11dd7276b'), ObjectId('664b73b9e35f78a11dd7276c'), ObjectId('664b73b9e35f78a11dd7276d'), ObjectId('664b73b9e35f78a11dd7276e'), ObjectId('664b73b9e35f78a11dd7276f'), ObjectId('664b73b9e35f78a11dd72770'), ObjectId('664b73b9e35f78a11dd72771'), ObjectId('664b73b9e35f78a11dd72772'), ObjectId('664b73b9e35f78a11dd72773'), ObjectId('664b73b9e35f78a11dd72774'), ObjectId('664b73b9e35f78a11dd72775'), ObjectId('664b73b9e35f78a11dd72776'), ObjectId('664b73b9e35f78a11dd72777'), ObjectId('664b73b9e35f78a11dd72778'), ObjectId('664b73b9e35f78a11dd72779'), ObjectId('664b73b9e35f78a11dd7277a'), ObjectId('664b73b9e35f78a11dd7277b'), ObjectId('664b73b9e35f78a11dd7277c'), ObjectId('664b73b9e35f78a11dd7277d'), ObjectId('664b73b9e35f78a11dd7277e'), ObjectId('664b73b9e35f78a11dd7277f'), ObjectId('664b73b9e35f78a11dd72780'), ObjectId('664b73b9e35f78a11dd72781'), ObjectId('664b73b9e35f78a11dd72782'), ObjectId('664b73b9e35f78a11dd72783'), ObjectId('664b73b9e35f78a11dd72784'), ObjectId('664b73b9e35f78a11dd72785'), ObjectId('664b73b9e35f78a11dd72786'), ObjectId('664b73b9e35f78a11dd72787'), ObjectId('664b73b9e35f78a11dd72788'), ObjectId('664b73b9e35f78a11dd72789'), ObjectId('664b73b9e35f78a11dd7278a'), ObjectId('664b73b9e35f78a11dd7278b'), ObjectId('664b73b9e35f78a11dd7278c'), ObjectId('664b73b9e35f78a11dd7278d'), ObjectId('664b73b9e35f78a11dd7278e'), ObjectId('664b73b9e35f78a11dd7278f'), ObjectId('664b73b9e35f78a11dd72790'), ObjectId('664b73b9e35f78a11dd72791'), ObjectId('664b73b9e35f78a11dd72792'), ObjectId('664b73b9e35f78a11dd72793'), ObjectId('664b73b9e35f78a11dd72794'), ObjectId('664b73b9e35f78a11dd72795'), ObjectId('664b73b9e35f78a11dd72796'), ObjectId('664b73b9e35f78a11dd72797'), ObjectId('664b73b9e35f78a11dd72798'), ObjectId('664b73b9e35f78a11dd72799'), ObjectId('664b73b9e35f78a11dd7279a'), ObjectId('664b73b9e35f78a11dd7279b'), ObjectId('664b73b9e35f78a11dd7279c'), ObjectId('664b73b9e35f78a11dd7279d'), ObjectId('664b73b9e35f78a11dd7279e'), ObjectId('664b73b9e35f78a11dd7279f'), ObjectId('664b73b9e35f78a11dd727a0'), ObjectId('664b73b9e35f78a11dd727a1'), ObjectId('664b73b9e35f78a11dd727a2'), ObjectId('664b73b9e35f78a11dd727a3'), ObjectId('664b73b9e35f78a11dd727a4'), ObjectId('664b73b9e35f78a11dd727a5'), ObjectId('664b73b9e35f78a11dd727a6'), ObjectId('664b73b9e35f78a11dd727a7'), ObjectId('664b73b9e35f78a11dd727a8'), ObjectId('664b73b9e35f78a11dd727a9'), ObjectId('664b73b9e35f78a11dd727aa'), ObjectId('664b73b9e35f78a11dd727ab'), ObjectId('664b73b9e35f78a11dd727ac'), ObjectId('664b73b9e35f78a11dd727ad'), ObjectId('664b73b9e35f78a11dd727ae'), ObjectId('664b73b9e35f78a11dd727af'), ObjectId('664b73b9e35f78a11dd727b0'), ObjectId('664b73b9e35f78a11dd727b1'), ObjectId('664b73b9e35f78a11dd727b2'), ObjectId('664b73b9e35f78a11dd727b3'), ObjectId('664b73b9e35f78a11dd727b4'), ObjectId('664b73b9e35f78a11dd727b5'), ObjectId('664b73b9e35f78a11dd727b6'), ObjectId('664b73b9e35f78a11dd727b7'), ObjectId('664b73b9e35f78a11dd727b8'), ObjectId('664b73b9e35f78a11dd727b9'), ObjectId('664b73b9e35f78a11dd727ba'), ObjectId('664b73b9e35f78a11dd727bb'), ObjectId('664b73b9e35f78a11dd727bc'), ObjectId('664b73b9e35f78a11dd727bd'), ObjectId('664b73b9e35f78a11dd727be'), ObjectId('664b73b9e35f78a11dd727bf'), ObjectId('664b73b9e35f78a11dd727c0'), ObjectId('664b73b9e35f78a11dd727c1'), ObjectId('664b73b9e35f78a11dd727c2'), ObjectId('664b73b9e35f78a11dd727c3'), ObjectId('664b73b9e35f78a11dd727c4'), ObjectId('664b73b9e35f78a11dd727c5'), ObjectId('664b73b9e35f78a11dd727c6'), ObjectId('664b73b9e35f78a11dd727c7'), ObjectId('664b73b9e35f78a11dd727c8'), ObjectId('664b73b9e35f78a11dd727c9'), ObjectId('664b73b9e35f78a11dd727ca'), ObjectId('664b73b9e35f78a11dd727cb'), ObjectId('664b73b9e35f78a11dd727cc'), ObjectId('664b73b9e35f78a11dd727cd'), ObjectId('664b73b9e35f78a11dd727ce'), ObjectId('664b73b9e35f78a11dd727cf'), ObjectId('664b73b9e35f78a11dd727d0'), ObjectId('664b73b9e35f78a11dd727d1'), ObjectId('664b73b9e35f78a11dd727d2'), ObjectId('664b73b9e35f78a11dd727d3'), ObjectId('664b73b9e35f78a11dd727d4'), ObjectId('664b73b9e35f78a11dd727d5'), ObjectId('664b73b9e35f78a11dd727d6'), ObjectId('664b73b9e35f78a11dd727d7'), ObjectId('664b73b9e35f78a11dd727d8'), ObjectId('664b73b9e35f78a11dd727d9'), ObjectId('664b73b9e35f78a11dd727da'), ObjectId('664b73b9e35f78a11dd727db'), ObjectId('664b73b9e35f78a11dd727dc'), ObjectId('664b73b9e35f78a11dd727dd'), ObjectId('664b73b9e35f78a11dd727de'), ObjectId('664b73b9e35f78a11dd727df'), ObjectId('664b73b9e35f78a11dd727e0'), ObjectId('664b73b9e35f78a11dd727e1'), ObjectId('664b73b9e35f78a11dd727e2'), ObjectId('664b73b9e35f78a11dd727e3'), ObjectId('664b73b9e35f78a11dd727e4'), ObjectId('664b73b9e35f78a11dd727e5'), ObjectId('664b73b9e35f78a11dd727e6'), ObjectId('664b73b9e35f78a11dd727e7'), ObjectId('664b73b9e35f78a11dd727e8'), ObjectId('664b73b9e35f78a11dd727e9'), ObjectId('664b73b9e35f78a11dd727ea'), ObjectId('664b73b9e35f78a11dd727eb'), ObjectId('664b73b9e35f78a11dd727ec'), ObjectId('664b73b9e35f78a11dd727ed'), ObjectId('664b73b9e35f78a11dd727ee'), ObjectId('664b73b9e35f78a11dd727ef'), ObjectId('664b73b9e35f78a11dd727f0'), ObjectId('664b73b9e35f78a11dd727f1'), ObjectId('664b73b9e35f78a11dd727f2'), ObjectId('664b73b9e35f78a11dd727f3'), ObjectId('664b73b9e35f78a11dd727f4'), ObjectId('664b73b9e35f78a11dd727f5'), ObjectId('664b73b9e35f78a11dd727f6'), ObjectId('664b73b9e35f78a11dd727f7'), ObjectId('664b73b9e35f78a11dd727f8'), ObjectId('664b73b9e35f78a11dd727f9'), ObjectId('664b73b9e35f78a11dd727fa'), ObjectId('664b73b9e35f78a11dd727fb'), ObjectId('664b73b9e35f78a11dd727fc'), ObjectId('664b73b9e35f78a11dd727fd'), ObjectId('664b73b9e35f78a11dd727fe'), ObjectId('664b73b9e35f78a11dd727ff'), ObjectId('664b73b9e35f78a11dd72800'), ObjectId('664b73b9e35f78a11dd72801'), ObjectId('664b73b9e35f78a11dd72802'), ObjectId('664b73b9e35f78a11dd72803'), ObjectId('664b73b9e35f78a11dd72804'), ObjectId('664b73b9e35f78a11dd72805'), ObjectId('664b73b9e35f78a11dd72806'), ObjectId('664b73b9e35f78a11dd72807'), ObjectId('664b73b9e35f78a11dd72808'), ObjectId('664b73b9e35f78a11dd72809'), ObjectId('664b73b9e35f78a11dd7280a'), ObjectId('664b73b9e35f78a11dd7280b'), ObjectId('664b73b9e35f78a11dd7280c'), ObjectId('664b73b9e35f78a11dd7280d'), ObjectId('664b73b9e35f78a11dd7280e'), ObjectId('664b73b9e35f78a11dd7280f'), ObjectId('664b73b9e35f78a11dd72810'), ObjectId('664b73b9e35f78a11dd72811'), ObjectId('664b73b9e35f78a11dd72812'), ObjectId('664b73b9e35f78a11dd72813'), ObjectId('664b73b9e35f78a11dd72814'), ObjectId('664b73b9e35f78a11dd72815'), ObjectId('664b73b9e35f78a11dd72816'), ObjectId('664b73b9e35f78a11dd72817'), ObjectId('664b73b9e35f78a11dd72818'), ObjectId('664b73b9e35f78a11dd72819'), ObjectId('664b73b9e35f78a11dd7281a'), ObjectId('664b73b9e35f78a11dd7281b'), ObjectId('664b73b9e35f78a11dd7281c'), ObjectId('664b73b9e35f78a11dd7281d'), ObjectId('664b73b9e35f78a11dd7281e'), ObjectId('664b73b9e35f78a11dd7281f'), ObjectId('664b73b9e35f78a11dd72820'), ObjectId('664b73b9e35f78a11dd72821'), ObjectId('664b73b9e35f78a11dd72822'), ObjectId('664b73b9e35f78a11dd72823'), ObjectId('664b73b9e35f78a11dd72824'), ObjectId('664b73b9e35f78a11dd72825'), ObjectId('664b73b9e35f78a11dd72826'), ObjectId('664b73b9e35f78a11dd72827'), ObjectId('664b73b9e35f78a11dd72828'), ObjectId('664b73b9e35f78a11dd72829'), ObjectId('664b73b9e35f78a11dd7282a'), ObjectId('664b73b9e35f78a11dd7282b'), ObjectId('664b73b9e35f78a11dd7282c'), ObjectId('664b73b9e35f78a11dd7282d'), ObjectId('664b73b9e35f78a11dd7282e'), ObjectId('664b73b9e35f78a11dd7282f'), ObjectId('664b73b9e35f78a11dd72830'), ObjectId('664b73b9e35f78a11dd72831'), ObjectId('664b73b9e35f78a11dd72832'), ObjectId('664b73b9e35f78a11dd72833'), ObjectId('664b73b9e35f78a11dd72834'), ObjectId('664b73b9e35f78a11dd72835'), ObjectId('664b73b9e35f78a11dd72836'), ObjectId('664b73b9e35f78a11dd72837'), ObjectId('664b73b9e35f78a11dd72838'), ObjectId('664b73b9e35f78a11dd72839'), ObjectId('664b73b9e35f78a11dd7283a'), ObjectId('664b73b9e35f78a11dd7283b'), ObjectId('664b73b9e35f78a11dd7283c'), ObjectId('664b73b9e35f78a11dd7283d'), ObjectId('664b73b9e35f78a11dd7283e'), ObjectId('664b73b9e35f78a11dd7283f'), ObjectId('664b73b9e35f78a11dd72840'), ObjectId('664b73b9e35f78a11dd72841'), ObjectId('664b73b9e35f78a11dd72842'), ObjectId('664b73b9e35f78a11dd72843'), ObjectId('664b73b9e35f78a11dd72844'), ObjectId('664b73b9e35f78a11dd72845'), ObjectId('664b73b9e35f78a11dd72846'), ObjectId('664b73b9e35f78a11dd72847'), ObjectId('664b73b9e35f78a11dd72848'), ObjectId('664b73b9e35f78a11dd72849'), ObjectId('664b73b9e35f78a11dd7284a'), ObjectId('664b73b9e35f78a11dd7284b'), ObjectId('664b73b9e35f78a11dd7284c'), ObjectId('664b73b9e35f78a11dd7284d'), ObjectId('664b73b9e35f78a11dd7284e'), ObjectId('664b73b9e35f78a11dd7284f'), ObjectId('664b73b9e35f78a11dd72850'), ObjectId('664b73b9e35f78a11dd72851'), ObjectId('664b73b9e35f78a11dd72852'), ObjectId('664b73b9e35f78a11dd72853'), ObjectId('664b73b9e35f78a11dd72854'), ObjectId('664b73b9e35f78a11dd72855'), ObjectId('664b73b9e35f78a11dd72856'), ObjectId('664b73b9e35f78a11dd72857'), ObjectId('664b73b9e35f78a11dd72858'), ObjectId('664b73b9e35f78a11dd72859'), ObjectId('664b73b9e35f78a11dd7285a'), ObjectId('664b73b9e35f78a11dd7285b'), ObjectId('664b73b9e35f78a11dd7285c'), ObjectId('664b73b9e35f78a11dd7285d'), ObjectId('664b73b9e35f78a11dd7285e'), ObjectId('664b73b9e35f78a11dd7285f'), ObjectId('664b73b9e35f78a11dd72860'), ObjectId('664b73b9e35f78a11dd72861'), ObjectId('664b73b9e35f78a11dd72862'), ObjectId('664b73b9e35f78a11dd72863'), ObjectId('664b73b9e35f78a11dd72864'), ObjectId('664b73b9e35f78a11dd72865'), ObjectId('664b73b9e35f78a11dd72866'), ObjectId('664b73b9e35f78a11dd72867'), ObjectId('664b73b9e35f78a11dd72868'), ObjectId('664b73b9e35f78a11dd72869'), ObjectId('664b73b9e35f78a11dd7286a'), ObjectId('664b73b9e35f78a11dd7286b'), ObjectId('664b73b9e35f78a11dd7286c'), ObjectId('664b73b9e35f78a11dd7286d'), ObjectId('664b73b9e35f78a11dd7286e'), ObjectId('664b73b9e35f78a11dd7286f'), ObjectId('664b73b9e35f78a11dd72870'), ObjectId('664b73b9e35f78a11dd72871'), ObjectId('664b73b9e35f78a11dd72872'), ObjectId('664b73b9e35f78a11dd72873'), ObjectId('664b73b9e35f78a11dd72874'), ObjectId('664b73b9e35f78a11dd72875'), ObjectId('664b73b9e35f78a11dd72876'), ObjectId('664b73b9e35f78a11dd72877'), ObjectId('664b73b9e35f78a11dd72878'), ObjectId('664b73b9e35f78a11dd72879'), ObjectId('664b73b9e35f78a11dd7287a'), ObjectId('664b73b9e35f78a11dd7287b'), ObjectId('664b73b9e35f78a11dd7287c'), ObjectId('664b73b9e35f78a11dd7287d'), ObjectId('664b73b9e35f78a11dd7287e'), ObjectId('664b73b9e35f78a11dd7287f'), ObjectId('664b73b9e35f78a11dd72880'), ObjectId('664b73b9e35f78a11dd72881'), ObjectId('664b73b9e35f78a11dd72882'), ObjectId('664b73b9e35f78a11dd72883'), ObjectId('664b73b9e35f78a11dd72884'), ObjectId('664b73b9e35f78a11dd72885'), ObjectId('664b73b9e35f78a11dd72886'), ObjectId('664b73b9e35f78a11dd72887'), ObjectId('664b73b9e35f78a11dd72888'), ObjectId('664b73b9e35f78a11dd72889'), ObjectId('664b73b9e35f78a11dd7288a'), ObjectId('664b73b9e35f78a11dd7288b'), ObjectId('664b73b9e35f78a11dd7288c'), ObjectId('664b73b9e35f78a11dd7288d'), ObjectId('664b73b9e35f78a11dd7288e'), ObjectId('664b73b9e35f78a11dd7288f'), ObjectId('664b73b9e35f78a11dd72890'), ObjectId('664b73b9e35f78a11dd72891'), ObjectId('664b73b9e35f78a11dd72892'), ObjectId('664b73b9e35f78a11dd72893'), ObjectId('664b73b9e35f78a11dd72894'), ObjectId('664b73b9e35f78a11dd72895'), ObjectId('664b73b9e35f78a11dd72896'), ObjectId('664b73b9e35f78a11dd72897'), ObjectId('664b73b9e35f78a11dd72898'), ObjectId('664b73b9e35f78a11dd72899'), ObjectId('664b73b9e35f78a11dd7289a'), ObjectId('664b73b9e35f78a11dd7289b'), ObjectId('664b73b9e35f78a11dd7289c'), ObjectId('664b73b9e35f78a11dd7289d'), ObjectId('664b73b9e35f78a11dd7289e'), ObjectId('664b73b9e35f78a11dd7289f'), ObjectId('664b73b9e35f78a11dd728a0'), ObjectId('664b73b9e35f78a11dd728a1'), ObjectId('664b73b9e35f78a11dd728a2'), ObjectId('664b73b9e35f78a11dd728a3'), ObjectId('664b73b9e35f78a11dd728a4'), ObjectId('664b73b9e35f78a11dd728a5'), ObjectId('664b73b9e35f78a11dd728a6'), ObjectId('664b73b9e35f78a11dd728a7'), ObjectId('664b73b9e35f78a11dd728a8'), ObjectId('664b73b9e35f78a11dd728a9'), ObjectId('664b73b9e35f78a11dd728aa'), ObjectId('664b73b9e35f78a11dd728ab'), ObjectId('664b73b9e35f78a11dd728ac'), ObjectId('664b73b9e35f78a11dd728ad'), ObjectId('664b73b9e35f78a11dd728ae'), ObjectId('664b73b9e35f78a11dd728af'), ObjectId('664b73b9e35f78a11dd728b0'), ObjectId('664b73b9e35f78a11dd728b1'), ObjectId('664b73b9e35f78a11dd728b2'), ObjectId('664b73b9e35f78a11dd728b3'), ObjectId('664b73b9e35f78a11dd728b4'), ObjectId('664b73b9e35f78a11dd728b5'), ObjectId('664b73b9e35f78a11dd728b6'), ObjectId('664b73b9e35f78a11dd728b7'), ObjectId('664b73b9e35f78a11dd728b8'), ObjectId('664b73b9e35f78a11dd728b9'), ObjectId('664b73b9e35f78a11dd728ba'), ObjectId('664b73b9e35f78a11dd728bb'), ObjectId('664b73b9e35f78a11dd728bc'), ObjectId('664b73b9e35f78a11dd728bd'), ObjectId('664b73b9e35f78a11dd728be'), ObjectId('664b73b9e35f78a11dd728bf'), ObjectId('664b73b9e35f78a11dd728c0'), ObjectId('664b73b9e35f78a11dd728c1'), ObjectId('664b73b9e35f78a11dd728c2'), ObjectId('664b73b9e35f78a11dd728c3'), ObjectId('664b73b9e35f78a11dd728c4'), ObjectId('664b73b9e35f78a11dd728c5'), ObjectId('664b73b9e35f78a11dd728c6'), ObjectId('664b73b9e35f78a11dd728c7'), ObjectId('664b73b9e35f78a11dd728c8'), ObjectId('664b73b9e35f78a11dd728c9'), ObjectId('664b73b9e35f78a11dd728ca'), ObjectId('664b73b9e35f78a11dd728cb'), ObjectId('664b73b9e35f78a11dd728cc'), ObjectId('664b73b9e35f78a11dd728cd'), ObjectId('664b73b9e35f78a11dd728ce'), ObjectId('664b73b9e35f78a11dd728cf'), ObjectId('664b73b9e35f78a11dd728d0'), ObjectId('664b73b9e35f78a11dd728d1'), ObjectId('664b73b9e35f78a11dd728d2'), ObjectId('664b73b9e35f78a11dd728d3'), ObjectId('664b73b9e35f78a11dd728d4'), ObjectId('664b73b9e35f78a11dd728d5'), ObjectId('664b73b9e35f78a11dd728d6'), ObjectId('664b73b9e35f78a11dd728d7'), ObjectId('664b73b9e35f78a11dd728d8'), ObjectId('664b73b9e35f78a11dd728d9'), ObjectId('664b73b9e35f78a11dd728da'), ObjectId('664b73b9e35f78a11dd728db'), ObjectId('664b73b9e35f78a11dd728dc'), ObjectId('664b73b9e35f78a11dd728dd'), ObjectId('664b73b9e35f78a11dd728de'), ObjectId('664b73b9e35f78a11dd728df'), ObjectId('664b73b9e35f78a11dd728e0'), ObjectId('664b73b9e35f78a11dd728e1'), ObjectId('664b73b9e35f78a11dd728e2'), ObjectId('664b73b9e35f78a11dd728e3'), ObjectId('664b73b9e35f78a11dd728e4'), ObjectId('664b73b9e35f78a11dd728e5'), ObjectId('664b73b9e35f78a11dd728e6'), ObjectId('664b73b9e35f78a11dd728e7'), ObjectId('664b73b9e35f78a11dd728e8'), ObjectId('664b73b9e35f78a11dd728e9'), ObjectId('664b73b9e35f78a11dd728ea'), ObjectId('664b73b9e35f78a11dd728eb'), ObjectId('664b73b9e35f78a11dd728ec'), ObjectId('664b73b9e35f78a11dd728ed'), ObjectId('664b73b9e35f78a11dd728ee'), ObjectId('664b73b9e35f78a11dd728ef'), ObjectId('664b73b9e35f78a11dd728f0'), ObjectId('664b73b9e35f78a11dd728f1'), ObjectId('664b73b9e35f78a11dd728f2'), ObjectId('664b73b9e35f78a11dd728f3'), ObjectId('664b73b9e35f78a11dd728f4'), ObjectId('664b73b9e35f78a11dd728f5'), ObjectId('664b73b9e35f78a11dd728f6'), ObjectId('664b73b9e35f78a11dd728f7'), ObjectId('664b73b9e35f78a11dd728f8'), ObjectId('664b73b9e35f78a11dd728f9'), ObjectId('664b73b9e35f78a11dd728fa'), ObjectId('664b73b9e35f78a11dd728fb'), ObjectId('664b73b9e35f78a11dd728fc'), ObjectId('664b73b9e35f78a11dd728fd'), ObjectId('664b73b9e35f78a11dd728fe'), ObjectId('664b73b9e35f78a11dd728ff'), ObjectId('664b73b9e35f78a11dd72900'), ObjectId('664b73b9e35f78a11dd72901'), ObjectId('664b73b9e35f78a11dd72902'), ObjectId('664b73b9e35f78a11dd72903'), ObjectId('664b73b9e35f78a11dd72904'), ObjectId('664b73b9e35f78a11dd72905'), ObjectId('664b73b9e35f78a11dd72906'), ObjectId('664b73b9e35f78a11dd72907'), ObjectId('664b73b9e35f78a11dd72908'), ObjectId('664b73b9e35f78a11dd72909'), ObjectId('664b73b9e35f78a11dd7290a'), ObjectId('664b73b9e35f78a11dd7290b'), ObjectId('664b73b9e35f78a11dd7290c'), ObjectId('664b73b9e35f78a11dd7290d'), ObjectId('664b73b9e35f78a11dd7290e'), ObjectId('664b73b9e35f78a11dd7290f'), ObjectId('664b73b9e35f78a11dd72910'), ObjectId('664b73b9e35f78a11dd72911'), ObjectId('664b73b9e35f78a11dd72912'), ObjectId('664b73b9e35f78a11dd72913'), ObjectId('664b73b9e35f78a11dd72914'), ObjectId('664b73b9e35f78a11dd72915'), ObjectId('664b73b9e35f78a11dd72916'), ObjectId('664b73b9e35f78a11dd72917'), ObjectId('664b73b9e35f78a11dd72918'), ObjectId('664b73b9e35f78a11dd72919'), ObjectId('664b73b9e35f78a11dd7291a'), ObjectId('664b73b9e35f78a11dd7291b'), ObjectId('664b73b9e35f78a11dd7291c'), ObjectId('664b73b9e35f78a11dd7291d'), ObjectId('664b73b9e35f78a11dd7291e'), ObjectId('664b73b9e35f78a11dd7291f'), ObjectId('664b73b9e35f78a11dd72920'), ObjectId('664b73b9e35f78a11dd72921'), ObjectId('664b73b9e35f78a11dd72922'), ObjectId('664b73b9e35f78a11dd72923'), ObjectId('664b73b9e35f78a11dd72924'), ObjectId('664b73b9e35f78a11dd72925'), ObjectId('664b73b9e35f78a11dd72926'), ObjectId('664b73b9e35f78a11dd72927'), ObjectId('664b73b9e35f78a11dd72928'), ObjectId('664b73b9e35f78a11dd72929'), ObjectId('664b73b9e35f78a11dd7292a'), ObjectId('664b73b9e35f78a11dd7292b'), ObjectId('664b73b9e35f78a11dd7292c'), ObjectId('664b73b9e35f78a11dd7292d'), ObjectId('664b73b9e35f78a11dd7292e'), ObjectId('664b73b9e35f78a11dd7292f'), ObjectId('664b73b9e35f78a11dd72930'), ObjectId('664b73b9e35f78a11dd72931'), ObjectId('664b73b9e35f78a11dd72932'), ObjectId('664b73b9e35f78a11dd72933'), ObjectId('664b73b9e35f78a11dd72934'), ObjectId('664b73b9e35f78a11dd72935'), ObjectId('664b73b9e35f78a11dd72936'), ObjectId('664b73b9e35f78a11dd72937'), ObjectId('664b73b9e35f78a11dd72938'), ObjectId('664b73b9e35f78a11dd72939'), ObjectId('664b73b9e35f78a11dd7293a'), ObjectId('664b73b9e35f78a11dd7293b'), ObjectId('664b73b9e35f78a11dd7293c'), ObjectId('664b73b9e35f78a11dd7293d'), ObjectId('664b73b9e35f78a11dd7293e'), ObjectId('664b73b9e35f78a11dd7293f'), ObjectId('664b73b9e35f78a11dd72940'), ObjectId('664b73b9e35f78a11dd72941'), ObjectId('664b73b9e35f78a11dd72942'), ObjectId('664b73b9e35f78a11dd72943'), ObjectId('664b73b9e35f78a11dd72944'), ObjectId('664b73b9e35f78a11dd72945'), ObjectId('664b73b9e35f78a11dd72946'), ObjectId('664b73b9e35f78a11dd72947'), ObjectId('664b73b9e35f78a11dd72948'), ObjectId('664b73b9e35f78a11dd72949'), ObjectId('664b73b9e35f78a11dd7294a'), ObjectId('664b73b9e35f78a11dd7294b'), ObjectId('664b73b9e35f78a11dd7294c'), ObjectId('664b73b9e35f78a11dd7294d'), ObjectId('664b73b9e35f78a11dd7294e'), ObjectId('664b73b9e35f78a11dd7294f'), ObjectId('664b73b9e35f78a11dd72950'), ObjectId('664b73b9e35f78a11dd72951'), ObjectId('664b73b9e35f78a11dd72952'), ObjectId('664b73b9e35f78a11dd72953'), ObjectId('664b73b9e35f78a11dd72954'), ObjectId('664b73b9e35f78a11dd72955'), ObjectId('664b73b9e35f78a11dd72956'), ObjectId('664b73b9e35f78a11dd72957'), ObjectId('664b73b9e35f78a11dd72958'), ObjectId('664b73b9e35f78a11dd72959'), ObjectId('664b73b9e35f78a11dd7295a'), ObjectId('664b73b9e35f78a11dd7295b'), ObjectId('664b73b9e35f78a11dd7295c'), ObjectId('664b73b9e35f78a11dd7295d'), ObjectId('664b73b9e35f78a11dd7295e'), ObjectId('664b73b9e35f78a11dd7295f'), ObjectId('664b73b9e35f78a11dd72960'), ObjectId('664b73b9e35f78a11dd72961')], acknowledged=True)"
      ]
     },
     "execution_count": 24,
     "metadata": {},
     "output_type": "execute_result"
    }
   ],
   "source": [
    "# Отправим данные в БД MongoDB\n",
    "collection.insert_many(acb_list)"
   ]
  },
  {
   "cell_type": "markdown",
   "id": "45868417-03c2-4007-8d6c-cbbc21c0b213",
   "metadata": {},
   "source": [
    "## Вывод:\n",
    "Взяла информацию с сайта `https://www.wildberries.ru/` об аккумуляторах 12V для ИБП. С помощью скрипта ввёла информацию для поиска, после чего скрипт прокручивал страницу, чтобы загрузились все товары. Далее сохранял все ссылки на аккумуляторы в список и если присутствовала кнопка далее, скрипт нажимал её.\n",
    "После того как были собраны все ссылки на аккумуляторы, в другом окне браузера открывалась каждая ссылка и извлекались следующие данные:  \n",
    "- марка;\n",
    "- напряжение аккумулятора;\n",
    "- ёмкость аккумулятора;\n",
    "- бренд;\n",
    "- страна производитель;\n",
    "- цена;\n",
    "- url.\n",
    "  \n",
    "\n",
    "Для автоматического сбора данных, нажмите в Jupiter Notebook -> выполнить все (`Run All Cells`)"
   ]
  },
  {
   "cell_type": "code",
   "execution_count": null,
   "id": "d702ad80-9113-4054-ae82-21a7553d0c7a",
   "metadata": {},
   "outputs": [],
   "source": []
  }
 ],
 "metadata": {
  "kernelspec": {
   "display_name": "Python 3 (ipykernel)",
   "language": "python",
   "name": "python3"
  },
  "language_info": {
   "codemirror_mode": {
    "name": "ipython",
    "version": 3
   },
   "file_extension": ".py",
   "mimetype": "text/x-python",
   "name": "python",
   "nbconvert_exporter": "python",
   "pygments_lexer": "ipython3",
   "version": "3.11.4"
  }
 },
 "nbformat": 4,
 "nbformat_minor": 5
}
